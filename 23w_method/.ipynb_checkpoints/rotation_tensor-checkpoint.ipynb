{
 "cells": [
  {
   "cell_type": "code",
   "execution_count": 4,
   "metadata": {
    "collapsed": true
   },
   "outputs": [],
   "source": [
    "import numpy as np\n",
    "import sympy as sym"
   ]
  },
  {
   "cell_type": "code",
   "execution_count": 5,
   "metadata": {},
   "outputs": [],
   "source": [
    "th, kxx, kxy, kxz, kyy, kyz, kzz = sym.symbols('th, kxx, kxy, kxz, kyy, kyz, kzz')"
   ]
  },
  {
   "cell_type": "code",
   "execution_count": 12,
   "metadata": {},
   "outputs": [],
   "source": [
    "Q = sym.Matrix([[1, 0, 0],[0, sym.cos(th), -sym.sin(th)],[0, sym.sin(th), sym.cos(th)]])\n",
    "ts = sym.Matrix([[kxx, kxy, kxz], [kxy, kyy, kyz], [kxz, kyz, kzz]])"
   ]
  },
  {
   "cell_type": "code",
   "execution_count": 91,
   "metadata": {},
   "outputs": [
    {
     "name": "stdout",
     "output_type": "stream",
     "text": [
      "Rotation matrix Q: \n",
      "Matrix([[1, 0, 0], [0, cos(th), -sin(th)], [0, sin(th), cos(th)]])\n",
      "Tensor ts: \n",
      "Matrix([[kxx, kxy, kxz], [kxy, kyy, kyz], [kxz, kyz, kzz]])\n",
      "Q * ts * Q.T = \n"
     ]
    },
    {
     "data": {
      "text/plain": [
       "Matrix([\n",
       "[                      kxx,                                                 kxy*cos(th) - kxz*sin(th),                                                 kxy*sin(th) + kxz*cos(th)],\n",
       "[kxy*cos(th) - kxz*sin(th), (kyy*cos(th) - kyz*sin(th))*cos(th) - (kyz*cos(th) - kzz*sin(th))*sin(th), (kyy*cos(th) - kyz*sin(th))*sin(th) + (kyz*cos(th) - kzz*sin(th))*cos(th)],\n",
       "[kxy*sin(th) + kxz*cos(th), (kyy*sin(th) + kyz*cos(th))*cos(th) - (kyz*sin(th) + kzz*cos(th))*sin(th), (kyy*sin(th) + kyz*cos(th))*sin(th) + (kyz*sin(th) + kzz*cos(th))*cos(th)]])"
      ]
     },
     "execution_count": 91,
     "metadata": {},
     "output_type": "execute_result"
    }
   ],
   "source": [
    "print('Rotation matrix Q: ', Q, sep = \"\\n\")\n",
    "print('Tensor ts: ', ts, sep = \"\\n\")\n",
    "print('Q * ts * Q.T = ')\n",
    "ts_r"
   ]
  },
  {
   "cell_type": "code",
   "execution_count": 13,
   "metadata": {},
   "outputs": [],
   "source": [
    "ts_r = Q * ts * Q.T"
   ]
  },
  {
   "cell_type": "code",
   "execution_count": 14,
   "metadata": {},
   "outputs": [
    {
     "data": {
      "text/plain": [
       "Matrix([\n",
       "[                      kxx,                                                 kxy*cos(th) - kxz*sin(th),                                                 kxy*sin(th) + kxz*cos(th)],\n",
       "[kxy*cos(th) - kxz*sin(th), (kyy*cos(th) - kyz*sin(th))*cos(th) - (kyz*cos(th) - kzz*sin(th))*sin(th), (kyy*cos(th) - kyz*sin(th))*sin(th) + (kyz*cos(th) - kzz*sin(th))*cos(th)],\n",
       "[kxy*sin(th) + kxz*cos(th), (kyy*sin(th) + kyz*cos(th))*cos(th) - (kyz*sin(th) + kzz*cos(th))*sin(th), (kyy*sin(th) + kyz*cos(th))*sin(th) + (kyz*sin(th) + kzz*cos(th))*cos(th)]])"
      ]
     },
     "execution_count": 14,
     "metadata": {},
     "output_type": "execute_result"
    }
   ],
   "source": [
    "Matrix(ts_r)"
   ]
  },
  {
   "cell_type": "code",
   "execution_count": 26,
   "metadata": {},
   "outputs": [],
   "source": [
    "def cosd(angle_degrees):\n",
    "    return np.cos(angle_degrees/180*np.pi)\n",
    "def sind(angle_degrees):\n",
    "    return np.sin(angle_degrees/180*np.pi)"
   ]
  },
  {
   "cell_type": "code",
   "execution_count": 37,
   "metadata": {},
   "outputs": [],
   "source": [
    "eqs = []\n",
    "angles = [0, 30, 45, 60, 75, 90]\n",
    "for ang in angles:\n",
    "    eq = ts_r[1,1].subs(th, ang / 180 * np.pi) - (ts_r[0,1].subs(th, ang / 180 * np.pi)**2) / kxx\n",
    "    eqs.append(eq)"
   ]
  },
  {
   "cell_type": "code",
   "execution_count": 38,
   "metadata": {},
   "outputs": [
    {
     "data": {
      "text/plain": [
       "[kyy - kxy**2/kxx,\n",
       " 0.75*kyy - 0.866025403784439*kyz + 0.25*kzz - (0.866025403784439*kxy - 0.5*kxz)**2/kxx,\n",
       " 0.5*kyy - 1.0*kyz + 0.5*kzz - (0.707106781186548*kxy - 0.707106781186547*kxz)**2/kxx,\n",
       " 0.25*kyy - 0.866025403784439*kyz + 0.75*kzz - (0.5*kxy - 0.866025403784439*kxz)**2/kxx,\n",
       " 0.0669872981077807*kyy - 0.5*kyz + 0.933012701892219*kzz - (0.258819045102521*kxy - 0.965925826289068*kxz)**2/kxx,\n",
       " 3.74939945665464e-33*kyy - 1.22464679914735e-16*kyz + 1.0*kzz - (6.12323399573677e-17*kxy - 1.0*kxz)**2/kxx]"
      ]
     },
     "execution_count": 38,
     "metadata": {},
     "output_type": "execute_result"
    }
   ],
   "source": [
    "eqs"
   ]
  },
  {
   "cell_type": "code",
   "execution_count": 63,
   "metadata": {},
   "outputs": [],
   "source": [
    "eqs2 = [eq - 1 for eq in eqs]\n",
    "eqs2.append(kxx - 1)"
   ]
  },
  {
   "cell_type": "code",
   "execution_count": 61,
   "metadata": {},
   "outputs": [],
   "source": [
    "solution = sym.solve(eqs2, (kxx, kxy, kxz, kyy, kyz, kzz))"
   ]
  },
  {
   "cell_type": "code",
   "execution_count": 55,
   "metadata": {},
   "outputs": [],
   "source": [
    "x,y = sym.symbols('x,y')\n",
    "solution = sym.solve([0.5*x + 0.5*y-1, 0.75*x + 0.25*y-1], (x,y))"
   ]
  },
  {
   "cell_type": "code",
   "execution_count": 77,
   "metadata": {},
   "outputs": [
    {
     "data": {
      "text/plain": [
       "Matrix([\n",
       "[1,                         0,                         0],\n",
       "[0, 2*sin(th)**2 + cos(th)**2,          -sin(th)*cos(th)],\n",
       "[0,          -sin(th)*cos(th), sin(th)**2 + 2*cos(th)**2]])"
      ]
     },
     "execution_count": 77,
     "metadata": {},
     "output_type": "execute_result"
    }
   ],
   "source": [
    "ts_3 = ts_r.subs([(kxx,1),(kxy,0), (kxz,0), (kyy, 1), (kyz, 0), (kzz, 2)])\n",
    "ts_3"
   ]
  },
  {
   "cell_type": "code",
   "execution_count": 76,
   "metadata": {},
   "outputs": [
    {
     "name": "stdout",
     "output_type": "stream",
     "text": [
      "1\n",
      "1.25000000000000\n",
      "1.50000000000000\n",
      "1.75000000000000\n",
      "1.93301270189222\n",
      "2.00000000000000\n"
     ]
    }
   ],
   "source": [
    "angles = [0, 30, 45, 60, 75, 90]\n",
    "for ang in angles:\n",
    "    eq = ts_3[1,1].subs(th, ang / 180 * np.pi) - (ts_3[0,1].subs(th, ang / 180 * np.pi)**2)\n",
    "    print(eq)"
   ]
  },
  {
   "cell_type": "code",
   "execution_count": null,
   "metadata": {
    "collapsed": true
   },
   "outputs": [],
   "source": []
  }
 ],
 "metadata": {
  "kernelspec": {
   "display_name": "Python 3",
   "language": "python",
   "name": "python3"
  },
  "language_info": {
   "codemirror_mode": {
    "name": "ipython",
    "version": 3
   },
   "file_extension": ".py",
   "mimetype": "text/x-python",
   "name": "python",
   "nbconvert_exporter": "python",
   "pygments_lexer": "ipython3",
   "version": "3.6.3"
  }
 },
 "nbformat": 4,
 "nbformat_minor": 2
}
