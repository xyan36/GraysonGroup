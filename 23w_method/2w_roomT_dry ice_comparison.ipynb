{
 "cells": [
  {
   "cell_type": "code",
   "execution_count": 18,
   "metadata": {
    "collapsed": true
   },
   "outputs": [],
   "source": [
    "import numpy as np\n",
    "import matplotlib.pyplot as plt\n",
    "import pandas as pd\n",
    "\n",
    "%matplotlib inline"
   ]
  },
  {
   "cell_type": "code",
   "execution_count": 90,
   "metadata": {
    "collapsed": true
   },
   "outputs": [],
   "source": [
    "fname = \"201215//201215_glass_R87_R1516_2w_measurement.csv\"\n",
    "fname2 = \"201218//201218_glass_R87_R1516_2w_measurement_dry_ice.csv\"\n",
    "fn = \"201215//201215_glass_R87_R1516_2w_measurement.txt\"\n",
    "fn2 = \"201218//201218_glass_R87_R1516_2w_measurement_dry_ice.txt\""
   ]
  },
  {
   "cell_type": "code",
   "execution_count": 98,
   "metadata": {},
   "outputs": [],
   "source": [
    "df = pd.read_csv(fname, sep = ',', header = 0, names = ['R', 'original_X2','original_Y2', 'f', 'X2','Y2','theta','theta_smooth'])\n",
    "df2 = pd.read_csv(fname2, sep = ',', header = 0, names = ['R', 'original_X2','original_Y2', 'f', 'X2','Y2','theta','theta_smooth'])\n",
    "df3 = pd.read_csv(fn, sep = ' ')\n",
    "df4 = pd.read_csv(fn2, sep = ' ')\n",
    "df3.rename(columns = {'Lockin1f':'f'}, inplace = True)\n",
    "df4.rename(columns = {'Lockin1f' : 'f'}, inplace = True)"
   ]
  },
  {
   "cell_type": "code",
   "execution_count": 152,
   "metadata": {},
   "outputs": [
    {
     "name": "stdout",
     "output_type": "stream",
     "text": [
      "0.48880999999999997\n"
     ]
    }
   ],
   "source": [
    "df3.head()\n",
    "V1w_ave = np.mean(df3['X1'])\n",
    "print(V1w_ave)"
   ]
  },
  {
   "cell_type": "code",
   "execution_count": 153,
   "metadata": {},
   "outputs": [
    {
     "name": "stdout",
     "output_type": "stream",
     "text": [
      "0.45417053333333324\n"
     ]
    }
   ],
   "source": [
    "#plt.plot(df3['f'],[df4['X1'].iloc[i] / df3['X1'].iloc[i] for i in range(0, len(df3['X1']))])\n",
    "\n",
    "np.mean(df4['X1'])/np.mean(df3['X1'])\n",
    "print(np.mean(df4['X1']))"
   ]
  },
  {
   "cell_type": "code",
   "execution_count": 114,
   "metadata": {},
   "outputs": [
    {
     "data": {
      "text/html": [
       "<div>\n",
       "<style>\n",
       "    .dataframe thead tr:only-child th {\n",
       "        text-align: right;\n",
       "    }\n",
       "\n",
       "    .dataframe thead th {\n",
       "        text-align: left;\n",
       "    }\n",
       "\n",
       "    .dataframe tbody tr th {\n",
       "        vertical-align: top;\n",
       "    }\n",
       "</style>\n",
       "<table border=\"1\" class=\"dataframe\">\n",
       "  <thead>\n",
       "    <tr style=\"text-align: right;\">\n",
       "      <th></th>\n",
       "      <th>Date_time</th>\n",
       "      <th>Time</th>\n",
       "      <th>TC</th>\n",
       "      <th>SENS</th>\n",
       "      <th>f</th>\n",
       "      <th>Lockin2f</th>\n",
       "      <th>X1</th>\n",
       "      <th>Y1</th>\n",
       "      <th>X2</th>\n",
       "      <th>Y2</th>\n",
       "    </tr>\n",
       "  </thead>\n",
       "  <tbody>\n",
       "    <tr>\n",
       "      <th>2020-12-18</th>\n",
       "      <td>14:44:33.502474</td>\n",
       "      <td>130.894487</td>\n",
       "      <td>11</td>\n",
       "      <td>16</td>\n",
       "      <td>10.000</td>\n",
       "      <td>10.0000</td>\n",
       "      <td>0.459108</td>\n",
       "      <td>0.006348</td>\n",
       "      <td>-0.000262</td>\n",
       "      <td>-0.000241</td>\n",
       "    </tr>\n",
       "    <tr>\n",
       "      <th>2020-12-18</th>\n",
       "      <td>14:46:43.718922</td>\n",
       "      <td>261.110934</td>\n",
       "      <td>11</td>\n",
       "      <td>16</td>\n",
       "      <td>11.931</td>\n",
       "      <td>11.9305</td>\n",
       "      <td>0.458742</td>\n",
       "      <td>0.005249</td>\n",
       "      <td>-0.000252</td>\n",
       "      <td>-0.000210</td>\n",
       "    </tr>\n",
       "    <tr>\n",
       "      <th>2020-12-18</th>\n",
       "      <td>14:48:53.972372</td>\n",
       "      <td>391.363384</td>\n",
       "      <td>11</td>\n",
       "      <td>16</td>\n",
       "      <td>14.236</td>\n",
       "      <td>14.2355</td>\n",
       "      <td>0.458132</td>\n",
       "      <td>0.004334</td>\n",
       "      <td>-0.000242</td>\n",
       "      <td>-0.000180</td>\n",
       "    </tr>\n",
       "    <tr>\n",
       "      <th>2020-12-18</th>\n",
       "      <td>14:51:04.205821</td>\n",
       "      <td>521.596833</td>\n",
       "      <td>11</td>\n",
       "      <td>16</td>\n",
       "      <td>16.986</td>\n",
       "      <td>16.9854</td>\n",
       "      <td>0.457399</td>\n",
       "      <td>0.003601</td>\n",
       "      <td>-0.000230</td>\n",
       "      <td>-0.000152</td>\n",
       "    </tr>\n",
       "    <tr>\n",
       "      <th>2020-12-18</th>\n",
       "      <td>14:53:14.449271</td>\n",
       "      <td>651.814281</td>\n",
       "      <td>11</td>\n",
       "      <td>16</td>\n",
       "      <td>20.260</td>\n",
       "      <td>20.2599</td>\n",
       "      <td>0.456789</td>\n",
       "      <td>0.002991</td>\n",
       "      <td>-0.000217</td>\n",
       "      <td>-0.000125</td>\n",
       "    </tr>\n",
       "  </tbody>\n",
       "</table>\n",
       "</div>"
      ],
      "text/plain": [
       "                  Date_time        Time  TC  SENS       f  Lockin2f        X1  \\\n",
       "2020-12-18  14:44:33.502474  130.894487  11    16  10.000   10.0000  0.459108   \n",
       "2020-12-18  14:46:43.718922  261.110934  11    16  11.931   11.9305  0.458742   \n",
       "2020-12-18  14:48:53.972372  391.363384  11    16  14.236   14.2355  0.458132   \n",
       "2020-12-18  14:51:04.205821  521.596833  11    16  16.986   16.9854  0.457399   \n",
       "2020-12-18  14:53:14.449271  651.814281  11    16  20.260   20.2599  0.456789   \n",
       "\n",
       "                  Y1        X2        Y2  \n",
       "2020-12-18  0.006348 -0.000262 -0.000241  \n",
       "2020-12-18  0.005249 -0.000252 -0.000210  \n",
       "2020-12-18  0.004334 -0.000242 -0.000180  \n",
       "2020-12-18  0.003601 -0.000230 -0.000152  \n",
       "2020-12-18  0.002991 -0.000217 -0.000125  "
      ]
     },
     "execution_count": 114,
     "metadata": {},
     "output_type": "execute_result"
    }
   ],
   "source": [
    "df4.head()"
   ]
  },
  {
   "cell_type": "code",
   "execution_count": 150,
   "metadata": {},
   "outputs": [
    {
     "data": {
      "image/png": "[encoded data removed]",
      "text/plain": [
       "<Figure size 1008x720 with 4 Axes>"
      ]
     },
     "metadata": {},
     "output_type": "display_data"
    }
   ],
   "source": [
    "fig, axs = plt.subplots(2,2,figsize = (14,10))\n",
    "axs = axs.flatten()\n",
    "fz = 14\n",
    "axs[0].scatter(df['f'], df['X2'], label = 'Room T X2')\n",
    "axs[0].scatter(df2['f'], df2['X2'], label = 'dry ice X2')\n",
    "axs[0].set_xlabel('f(Hz)', fontsize = fz)\n",
    "axs[0].set_ylabel('V(V)', fontsize = fz)\n",
    "axs[0].set_xscale('log')\n",
    "axs[0].set_ylim([-300e-6, 300e-6])\n",
    "axs[0].tick_params(labelsize = 20)\n",
    "axs[0].legend(loc = 'upper right', fontsize = 20)\n",
    "\n",
    "axs[1].scatter(df['f'],df['Y2'],label = 'Room T Y2')\n",
    "axs[1].scatter(df2['f'],df2['Y2'],label = 'dry ice Y2')\n",
    "axs[1].set_xscale('log')\n",
    "axs[1].set_xlabel('f(Hz)', fontsize = fz)\n",
    "axs[1].set_ylabel('V(V)', fontsize = fz)\n",
    "axs[1].set_xscale('log')\n",
    "axs[1].set_ylim([-300e-6, 300e-6])\n",
    "axs[1].tick_params(labelsize = 20)\n",
    "axs[1].legend(loc = 'upper right', fontsize = 20)\n",
    "\n",
    "axs[2].scatter(df['f'], [df2['X2'].iloc[i] / df['X2'].iloc[i] for i in range(0, len(df['X2']))])\n",
    "axs[2].set_xlabel('f(Hz)', fontsize = fz)\n",
    "axs[2].set_ylabel('ratio Dry ice X2 / Room T X2', fontsize = fz)\n",
    "axs[2].set_xscale('log')\n",
    "axs[2].set_ylim([0, 2])\n",
    "axs[2].set_yticks(np.arange(0,2.2,0.2))\n",
    "axs[2].tick_params(labelsize = 20)\n",
    "\n",
    "axs[3].scatter(df['f'],[df2['Y2'].iloc[i] / df['Y2'].iloc[i] for i in range(0, len(df['X2']))])\n",
    "axs[3].set_xscale('log')\n",
    "axs[3].set_xlabel('f(Hz)', fontsize = fz)\n",
    "axs[3].set_ylabel('ratio Dry ice Y2 / Room T Y2', fontsize = fz)\n",
    "axs[3].set_xscale('log')\n",
    "axs[3].set_ylim([0, 2])\n",
    "axs[3].set_yticks(np.arange(0, 2.2, 0.2))\n",
    "axs[3].tick_params(labelsize = 20)\n",
    "\n",
    "plt.tight_layout()\n",
    "fig.savefig('201218//glass_1_2w_dry_ice_room_T_comparison.png', dpi = 100)"
   ]
  },
  {
   "cell_type": "code",
   "execution_count": 131,
   "metadata": {},
   "outputs": [
    {
     "data": {
      "text/plain": [
       "1.1811963450384642"
      ]
     },
     "execution_count": 131,
     "metadata": {},
     "output_type": "execute_result"
    }
   ],
   "source": [
    "np.mean([df2['X2'].iloc[i] / df['X2'].iloc[i] for i in range(0, len(df['X2']))])"
   ]
  },
  {
   "cell_type": "code",
   "execution_count": 132,
   "metadata": {},
   "outputs": [
    {
     "data": {
      "text/plain": [
       "1.1966260952062913"
      ]
     },
     "execution_count": 132,
     "metadata": {},
     "output_type": "execute_result"
    }
   ],
   "source": [
    "np.mean([df2['Y2'].iloc[i] / df['Y2'].iloc[i] for i in range(0, len(df['X2']))])"
   ]
  },
  {
   "cell_type": "code",
   "execution_count": 135,
   "metadata": {},
   "outputs": [
    {
     "data": {
      "text/plain": [
       "1.1884999999999999"
      ]
     },
     "execution_count": 135,
     "metadata": {},
     "output_type": "execute_result"
    }
   ],
   "source": [
    "np.mean([1.181,1.196])"
   ]
  },
  {
   "cell_type": "code",
   "execution_count": 140,
   "metadata": {},
   "outputs": [
    {
     "name": "stdout",
     "output_type": "stream",
     "text": [
      "1.33376971622 1.22253187377\n"
     ]
    }
   ],
   "source": [
    "mask = df2['f'] < 40\n",
    "x2mean= np.mean([df2['X2'][mask].iloc[i] / df['X2'][mask].iloc[i] for i in range(0, len(df['X2'][mask]))])\n",
    "y2mean= np.mean([df2['Y2'][mask].iloc[i] / df['Y2'][mask].iloc[i] for i in range(0, len(df['X2'][mask]))])\n",
    "print(x2mean, y2mean)"
   ]
  },
  {
   "cell_type": "code",
   "execution_count": 148,
   "metadata": {},
   "outputs": [
    {
     "data": {
      "text/plain": [
       "1.2802428741927634"
      ]
     },
     "execution_count": 148,
     "metadata": {},
     "output_type": "execute_result"
    }
   ],
   "source": [
    "np.mean([df2['X2'].iloc[i] / df['X2'].iloc[i] for i in range(0, len(df['X2'][mask]))][0:5])"
   ]
  },
  {
   "cell_type": "code",
   "execution_count": 149,
   "metadata": {},
   "outputs": [
    {
     "data": {
      "text/plain": [
       "1.2061992403157737"
      ]
     },
     "execution_count": 149,
     "metadata": {},
     "output_type": "execute_result"
    }
   ],
   "source": [
    "np.mean([df2['Y2'].iloc[i] / df['Y2'].iloc[i] for i in range(0, len(df['X2'][mask]))][0:5])"
   ]
  },
  {
   "cell_type": "code",
   "execution_count": 145,
   "metadata": {},
   "outputs": [
    {
     "data": {
      "text/plain": [
       "1.2145000000000001"
      ]
     },
     "execution_count": 145,
     "metadata": {},
     "output_type": "execute_result"
    }
   ],
   "source": [
    "(1.241 + 1.188) / 2"
   ]
  },
  {
   "cell_type": "code",
   "execution_count": null,
   "metadata": {
    "collapsed": true
   },
   "outputs": [],
   "source": []
  }
 ],
 "metadata": {
  "kernelspec": {
   "display_name": "Python 3",
   "language": "python",
   "name": "python3"
  },
  "language_info": {
   "codemirror_mode": {
    "name": "ipython",
    "version": 3
   },
   "file_extension": ".py",
   "mimetype": "text/x-python",
   "name": "python",
   "nbconvert_exporter": "python",
   "pygments_lexer": "ipython3",
   "version": "3.6.3"
  }
 },
 "nbformat": 4,
 "nbformat_minor": 2
}
