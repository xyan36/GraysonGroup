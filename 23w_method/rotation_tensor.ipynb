{
 "cells": [
  {
   "cell_type": "code",
   "execution_count": 1,
   "metadata": {
    "collapsed": true
   },
   "outputs": [],
   "source": [
    "import numpy as np\n",
    "import sympy as sym"
   ]
  },
  {
   "cell_type": "code",
   "execution_count": 2,
   "metadata": {
    "collapsed": true
   },
   "outputs": [],
   "source": [
    "th, kxx, kxy, kxz, kyy, kyz, kzz = sym.symbols('th, kxx, kxy, kxz, kyy, kyz, kzz')"
   ]
  },
  {
   "cell_type": "code",
   "execution_count": 3,
   "metadata": {
    "collapsed": true
   },
   "outputs": [],
   "source": [
    "Q = sym.Matrix([[1, 0, 0],[0, sym.cos(th), -sym.sin(th)],[0, sym.sin(th), sym.cos(th)]])\n",
    "ts = sym.Matrix([[kxx, kxy, kxz], [kxy, kyy, kyz], [kxz, kyz, kzz]])"
   ]
  },
  {
   "cell_type": "code",
   "execution_count": 4,
   "metadata": {},
   "outputs": [
    {
     "name": "stdout",
     "output_type": "stream",
     "text": [
      "Tensor ts: \n",
      "Matrix([[kxx, kxy, kxz], [kxy, kyy, kyz], [kxz, kyz, kzz]])\n",
      "Rotate an angle th along x-axis in yz-plane:\n",
      "Rotation matrix Q = \n",
      "Matrix([[1, 0, 0], [0, cos(th), -sin(th)], [0, sin(th), cos(th)]])\n",
      "Q * ts * Q.T = \n"
     ]
    },
    {
     "ename": "NameError",
     "evalue": "name 'ts_r' is not defined",
     "output_type": "error",
     "traceback": [
      "\u001b[1;31m---------------------------------------------------------------------------\u001b[0m",
      "\u001b[1;31mNameError\u001b[0m                                 Traceback (most recent call last)",
      "\u001b[1;32m<ipython-input-4-aabe178c00cd>\u001b[0m in \u001b[0;36m<module>\u001b[1;34m()\u001b[0m\n\u001b[0;32m      3\u001b[0m \u001b[0mprint\u001b[0m\u001b[1;33m(\u001b[0m\u001b[1;34m'Rotation matrix Q = '\u001b[0m\u001b[1;33m,\u001b[0m \u001b[0mQ\u001b[0m\u001b[1;33m,\u001b[0m \u001b[0msep\u001b[0m \u001b[1;33m=\u001b[0m \u001b[1;34m\"\\n\"\u001b[0m\u001b[1;33m)\u001b[0m\u001b[1;33m\u001b[0m\u001b[0m\n\u001b[0;32m      4\u001b[0m \u001b[0mprint\u001b[0m\u001b[1;33m(\u001b[0m\u001b[1;34m'Q * ts * Q.T = '\u001b[0m\u001b[1;33m)\u001b[0m\u001b[1;33m\u001b[0m\u001b[0m\n\u001b[1;32m----> 5\u001b[1;33m \u001b[0mts_r\u001b[0m\u001b[1;33m\u001b[0m\u001b[0m\n\u001b[0m",
      "\u001b[1;31mNameError\u001b[0m: name 'ts_r' is not defined"
     ]
    }
   ],
   "source": [
    "print('Tensor ts: ', ts, sep = \"\\n\")\n",
    "print('Rotate an angle th along x-axis in yz-plane:')\n",
    "print('Rotation matrix Q = ', Q, sep = \"\\n\")\n",
    "print('Q * ts * Q.T = ')\n",
    "#ts_r"
   ]
  },
  {
   "cell_type": "code",
   "execution_count": 5,
   "metadata": {
    "collapsed": true
   },
   "outputs": [],
   "source": [
    "ts_r = Q * ts * Q.T"
   ]
  },
  {
   "cell_type": "code",
   "execution_count": 6,
   "metadata": {},
   "outputs": [
    {
     "ename": "NameError",
     "evalue": "name 'Matrix' is not defined",
     "output_type": "error",
     "traceback": [
      "\u001b[1;31m---------------------------------------------------------------------------\u001b[0m",
      "\u001b[1;31mNameError\u001b[0m                                 Traceback (most recent call last)",
      "\u001b[1;32m<ipython-input-6-767271911cec>\u001b[0m in \u001b[0;36m<module>\u001b[1;34m()\u001b[0m\n\u001b[1;32m----> 1\u001b[1;33m \u001b[0mMatrix\u001b[0m\u001b[1;33m(\u001b[0m\u001b[0mts_r\u001b[0m\u001b[1;33m)\u001b[0m\u001b[1;33m\u001b[0m\u001b[0m\n\u001b[0m",
      "\u001b[1;31mNameError\u001b[0m: name 'Matrix' is not defined"
     ]
    }
   ],
   "source": [
    "Matrix(ts_r)"
   ]
  },
  {
   "cell_type": "code",
   "execution_count": 7,
   "metadata": {
    "collapsed": true
   },
   "outputs": [],
   "source": [
    "def cosd(angle_degrees):\n",
    "    return np.cos(angle_degrees/180*np.pi)\n",
    "def sind(angle_degrees):\n",
    "    return np.sin(angle_degrees/180*np.pi)"
   ]
  },
  {
   "cell_type": "code",
   "execution_count": 85,
   "metadata": {
    "collapsed": true
   },
   "outputs": [],
   "source": [
    "eqs = []\n",
    "angles = [0, 10, 20, 30, 45, 60]\n",
    "for ang in angles:\n",
    "    eq = kxx * ts_r[1,1].subs(th, ang / 180 * np.pi) - (ts_r[0,1].subs(th, ang / 180 * np.pi)**2)\n",
    "    eqs.append(eq)"
   ]
  },
  {
   "cell_type": "code",
   "execution_count": 36,
   "metadata": {},
   "outputs": [
    {
     "data": {
      "text/plain": [
       "[kxx*kyy - kxy**2,\n",
       " kxx*(0.969846310392954*kyy - 0.342020143325669*kyz + 0.0301536896070458*kzz) - (0.984807753012208*kxy - 0.17364817766693*kxz)**2,\n",
       " kxx*(0.883022221559489*kyy - 0.642787609686539*kyz + 0.116977778440511*kzz) - (0.939692620785908*kxy - 0.342020143325669*kxz)**2,\n",
       " kxx*(0.75*kyy - 0.866025403784439*kyz + 0.25*kzz) - (0.866025403784439*kxy - 0.5*kxz)**2,\n",
       " kxx*(0.5*kyy - 1.0*kyz + 0.5*kzz) - (0.707106781186548*kxy - 0.707106781186547*kxz)**2,\n",
       " kxx*(3.74939945665464e-33*kyy - 1.22464679914735e-16*kyz + 1.0*kzz) - (6.12323399573677e-17*kxy - 1.0*kxz)**2]"
      ]
     },
     "execution_count": 36,
     "metadata": {},
     "output_type": "execute_result"
    }
   ],
   "source": [
    "eqs"
   ]
  },
  {
   "cell_type": "code",
   "execution_count": 10,
   "metadata": {
    "collapsed": true
   },
   "outputs": [],
   "source": [
    "# eqs2 = [eq - 1 for eq in eqs]\n",
    "# eqs2.append(kxx - 1)"
   ]
  },
  {
   "cell_type": "code",
   "execution_count": null,
   "metadata": {
    "collapsed": true
   },
   "outputs": [],
   "source": []
  },
  {
   "cell_type": "code",
   "execution_count": 38,
   "metadata": {},
   "outputs": [
    {
     "data": {
      "text/plain": [
       "[]"
      ]
     },
     "execution_count": 38,
     "metadata": {},
     "output_type": "execute_result"
    }
   ],
   "source": [
    "solution = sym.solve(eqs2, (kxx, kxy, kxz, kyy, kyz, kzz))\n",
    "solution"
   ]
  },
  {
   "cell_type": "code",
   "execution_count": 125,
   "metadata": {},
   "outputs": [
    {
     "data": {
      "text/plain": [
       "{x: 0.857142857142857, y: 0.714285714285714}"
      ]
     },
     "execution_count": 125,
     "metadata": {},
     "output_type": "execute_result"
    }
   ],
   "source": [
    "x,y = sym.symbols('x,y')\n",
    "solution = sym.solve([1*x + 0.2*y-1, 0.75*x + 0.5*y-1], (x,y))\n",
    "solution"
   ]
  },
  {
   "cell_type": "code",
   "execution_count": 19,
   "metadata": {},
   "outputs": [
    {
     "data": {
      "text/plain": [
       "Matrix([\n",
       "[1,                         0,                         0],\n",
       "[0, 2*sin(th)**2 + cos(th)**2,          -sin(th)*cos(th)],\n",
       "[0,          -sin(th)*cos(th), sin(th)**2 + 2*cos(th)**2]])"
      ]
     },
     "execution_count": 19,
     "metadata": {},
     "output_type": "execute_result"
    }
   ],
   "source": [
    "ts_3 = ts_r.subs([(kxx,1),(kxy,0), (kxz,0), (kyy, 1), (kyz, 0), (kzz, 2)])\n",
    "ts_3"
   ]
  },
  {
   "cell_type": "code",
   "execution_count": 39,
   "metadata": {
    "collapsed": true
   },
   "outputs": [],
   "source": [
    "angles = [0, 10, 20, 30, 45, 90]\n",
    "detks = []\n",
    "for ang in angles:\n",
    "    detk = 1 * ts_3[1,1].subs(th, ang / 180 * np.pi) - (ts_3[0,1].subs(th, ang / 180 * np.pi)**2)\n",
    "    detks.append(detk)\n"
   ]
  },
  {
   "cell_type": "code",
   "execution_count": 48,
   "metadata": {},
   "outputs": [
    {
     "data": {
      "text/plain": [
       "[kxx*kyy - kxy**2 - 1,\n",
       " kxx*(0.969846310392954*kyy - 0.342020143325669*kyz + 0.0301536896070458*kzz) - (0.984807753012208*kxy - 0.17364817766693*kxz)**2 - 1.03015368960705,\n",
       " kxx*(0.883022221559489*kyy - 0.642787609686539*kyz + 0.116977778440511*kzz) - (0.939692620785908*kxy - 0.342020143325669*kxz)**2 - 1.11697777844051,\n",
       " kxx*(0.75*kyy - 0.866025403784439*kyz + 0.25*kzz) - (0.866025403784439*kxy - 0.5*kxz)**2 - 1.25,\n",
       " kxx*(0.5*kyy - 1.0*kyz + 0.5*kzz) - (0.707106781186548*kxy - 0.707106781186547*kxz)**2 - 1.5,\n",
       " kxx*(3.74939945665464e-33*kyy - 1.22464679914735e-16*kyz + 1.0*kzz) - (6.12323399573677e-17*kxy - 1.0*kxz)**2 - 2.0,\n",
       " kxx - 1]"
      ]
     },
     "execution_count": 48,
     "metadata": {},
     "output_type": "execute_result"
    }
   ],
   "source": [
    "eqs2 = [eqs[i] - detks[i] for i in range(0, len(eqs), 1)]\n",
    "eqs2.append(kxx - 1)\n",
    "eqs3 = eqs\n",
    "eqs3.append(kxx - 1)\n",
    "eqs2"
   ]
  },
  {
   "cell_type": "code",
   "execution_count": 42,
   "metadata": {},
   "outputs": [
    {
     "data": {
      "text/plain": [
       "[]"
      ]
     },
     "execution_count": 42,
     "metadata": {},
     "output_type": "execute_result"
    }
   ],
   "source": [
    "solution = sym.solve(eqs2, (kxx, kxy, kxz, kyy, kyz, kzz))\n",
    "solution"
   ]
  },
  {
   "cell_type": "code",
   "execution_count": 45,
   "metadata": {},
   "outputs": [
    {
     "data": {
      "text/plain": [
       "Matrix([\n",
       "[                                                                                                                kxx*kyy - kxy**2],\n",
       "[kxx*(0.969846310392954*kyy - 0.342020143325669*kyz + 0.0301536896070458*kzz) - (0.984807753012208*kxy - 0.17364817766693*kxz)**2],\n",
       "[kxx*(0.883022221559489*kyy - 0.642787609686539*kyz + 0.116977778440511*kzz) - (0.939692620785908*kxy - 0.342020143325669*kxz)**2],\n",
       "[                                        kxx*(0.75*kyy - 0.866025403784439*kyz + 0.25*kzz) - (0.866025403784439*kxy - 0.5*kxz)**2],\n",
       "[                                          kxx*(0.5*kyy - 1.0*kyz + 0.5*kzz) - (0.707106781186548*kxy - 0.707106781186547*kxz)**2],\n",
       "[                   kxx*(3.74939945665464e-33*kyy - 1.22464679914735e-16*kyz + 1.0*kzz) - (6.12323399573677e-17*kxy - 1.0*kxz)**2]])"
      ]
     },
     "execution_count": 45,
     "metadata": {},
     "output_type": "execute_result"
    }
   ],
   "source": [
    "sym.Matrix(eqs)"
   ]
  },
  {
   "cell_type": "code",
   "execution_count": 55,
   "metadata": {},
   "outputs": [
    {
     "data": {
      "text/plain": [
       "[-kxy**2 + kyy,\n",
       " 0.969846310392954*kyy - 0.342020143325669*kyz + 0.0301536896070458*kzz - (0.984807753012208*kxy - 0.17364817766693*kxz)**2,\n",
       " 0.883022221559489*kyy - 0.642787609686539*kyz + 0.116977778440511*kzz - (0.939692620785908*kxy - 0.342020143325669*kxz)**2,\n",
       " 0.75*kyy - 0.866025403784439*kyz + 0.25*kzz - (0.866025403784439*kxy - 0.5*kxz)**2,\n",
       " 0.5*kyy - 1.0*kyz + 0.5*kzz - (0.707106781186548*kxy - 0.707106781186547*kxz)**2,\n",
       " 3.74939945665464e-33*kyy - 1.22464679914735e-16*kyz + 1.0*kzz - (6.12323399573677e-17*kxy - 1.0*kxz)**2]"
      ]
     },
     "execution_count": 55,
     "metadata": {},
     "output_type": "execute_result"
    }
   ],
   "source": [
    "eqs3 = [eq.subs(kxx, 1) for eq in eqs]\n",
    "eqs3"
   ]
  },
  {
   "cell_type": "code",
   "execution_count": 159,
   "metadata": {},
   "outputs": [
    {
     "data": {
      "text/plain": [
       "[-0.969846310392954*kxy**2 + 0.342020143325669*kxy*kxz - 0.0301536896070458*kxz**2 + 0.969846310392954*kyy - 0.342020143325669*kyz + 0.0301536896070458*kzz - 1,\n",
       " -0.949397023149584*kxy**2 + 0.438371146789077*kxy*kxz - 0.0506029768504165*kxz**2 + 0.949397023149584*kyy - 0.438371146789077*kyz + 0.0506029768504165*kzz - 1.03015368960705,\n",
       " -0.82139380484327*kxy**2 + 0.766044443118978*kxy*kxz - 0.17860619515673*kxz**2 + 0.82139380484327*kyy - 0.766044443118978*kyz + 0.17860619515673*kzz - 1.11697777844051,\n",
       " -0.620960947799834*kxy**2 + 0.970295726275996*kxy*kxz - 0.379039052200166*kxz**2 + 0.620960947799834*kyy - 0.970295726275996*kyz + 0.379039052200166*kzz - 1.25,\n",
       " -0.48255025164875*kxy**2 + 0.999390827019096*kxy*kxz - 0.51744974835125*kxz**2 + 0.48255025164875*kyy - 0.999390827019096*kyz + 0.51744974835125*kzz - 1.5,\n",
       " -0.5*kxy**2 - 1.0*kxy*kxz - 0.5*kxz**2 + 0.5*kyy + 1.0*kyz + 0.5*kzz - 2.0]"
      ]
     },
     "execution_count": 159,
     "metadata": {},
     "output_type": "execute_result"
    }
   ],
   "source": [
    "eqs = []\n",
    "angles = [10, 13, 25, 38, 46, 135]\n",
    "for ang in angles:\n",
    "    eq = kxx * ts_r[1,1].subs(th, ang / 180 * np.pi) - (ts_r[0,1].subs(th, ang / 180 * np.pi)**2)\n",
    "    eqs.append(eq)\n",
    "eqs2 = [eqs[i] - detks[i] for i in range(0, len(eqs), 1)]\n",
    "eqs3 = [sym.expand(eq.subs(kxx,1)) for eq in eqs2]\n",
    "eqs3"
   ]
  },
  {
   "cell_type": "code",
   "execution_count": 160,
   "metadata": {},
   "outputs": [
    {
     "data": {
      "text/plain": [
       "Matrix([\n",
       "[0.969846310392954, -0.342020143325669, 0.0301536896070458, -0.969846310392954, -0.0301536896070458, 0.342020143325669],\n",
       "[0.949397023149584, -0.438371146789077, 0.0506029768504165, -0.949397023149584, -0.0506029768504165, 0.438371146789077],\n",
       "[ 0.82139380484327, -0.766044443118978,   0.17860619515673,  -0.82139380484327,   -0.17860619515673, 0.766044443118978],\n",
       "[0.620960947799834, -0.970295726275996,  0.379039052200166, -0.620960947799834,  -0.379039052200166, 0.970295726275996],\n",
       "[ 0.48255025164875, -0.999390827019096,   0.51744974835125,  -0.48255025164875,   -0.51744974835125, 0.999390827019096],\n",
       "[              0.5,                1.0,                0.5,               -0.5,                -0.5,              -1.0]])"
      ]
     },
     "execution_count": 160,
     "metadata": {},
     "output_type": "execute_result"
    }
   ],
   "source": [
    "M, b = sym.linear_eq_to_matrix(eqs3, [kyy, kyz, kzz, kxy**2, kxz**2, kxy * kxz])\n",
    "M"
   ]
  },
  {
   "cell_type": "code",
   "execution_count": 181,
   "metadata": {},
   "outputs": [
    {
     "data": {
      "text/plain": [
       "0"
      ]
     },
     "execution_count": 181,
     "metadata": {},
     "output_type": "execute_result"
    }
   ],
   "source": [
    "M[3:,[2,3,4]].det()"
   ]
  },
  {
   "cell_type": "code",
   "execution_count": 108,
   "metadata": {
    "collapsed": true
   },
   "outputs": [],
   "source": [
    "M2 = sym.Matrix([[0.97,-0.34, 0, -0.985**2, -0.174**2, 2 * 0.985 * 0.174], \n",
    "           [0.883, -0.643, 0.117, -0.94**2, -0.342**2, 2 * 0.94 * 0.342],\n",
    "            [0.75, -0.866, 0.25, -0.866**2, -0.5**2, 2 * 0.866 * 0.5],\n",
    "            [0.5, -1, 0.5, -0.707**2, -0.707**2, 2 * 0.707 * 0.707],\n",
    "            [0, 0, 1, 0, 1, 0],\n",
    "            [1, 0, 0, -1, 0, 0]])"
   ]
  },
  {
   "cell_type": "code",
   "execution_count": 109,
   "metadata": {},
   "outputs": [
    {
     "data": {
      "text/plain": [
       "-1.72932823537322e-6"
      ]
     },
     "execution_count": 109,
     "metadata": {},
     "output_type": "execute_result"
    }
   ],
   "source": [
    "M2.det()"
   ]
  },
  {
   "cell_type": "code",
   "execution_count": 117,
   "metadata": {},
   "outputs": [
    {
     "data": {
      "text/plain": [
       "-0.0925100000000000"
      ]
     },
     "execution_count": 117,
     "metadata": {},
     "output_type": "execute_result"
    }
   ],
   "source": [
    "M2 = sym.Matrix([[0.97,-0.34, 0],\n",
    "            [0.75, -0.866, 0.25],\n",
    "            [0.5, -1, 0.5]])\n",
    "M2.det()"
   ]
  },
  {
   "cell_type": "code",
   "execution_count": 129,
   "metadata": {},
   "outputs": [
    {
     "data": {
      "text/plain": [
       "0.0500000000000000"
      ]
     },
     "execution_count": 129,
     "metadata": {},
     "output_type": "execute_result"
    }
   ],
   "source": [
    "sym.Matrix([[1,0.2],[0.75,0.2]])"
   ]
  },
  {
   "cell_type": "code",
   "execution_count": 121,
   "metadata": {
    "collapsed": true
   },
   "outputs": [],
   "source": [
    "x = np.linspace(0,180, 100)\n",
    "import matplotlib.pyplot as plt"
   ]
  },
  {
   "cell_type": "code",
   "execution_count": 124,
   "metadata": {},
   "outputs": [
    {
     "data": {
      "image/png": "[encoded data removed]",
      "text/plain": [
       "<Figure size 432x288 with 1 Axes>"
      ]
     },
     "metadata": {},
     "output_type": "display_data"
    }
   ],
   "source": [
    "plt.plot(x, np.sin(x / 180 * np.pi) * np.cos(x / 180 * np.pi))\n",
    "plt.show()"
   ]
  },
  {
   "cell_type": "code",
   "execution_count": 141,
   "metadata": {},
   "outputs": [
    {
     "data": {
      "text/plain": [
       "[-kxy**2*cos(0.0174532925199433*th1)**2 + 2*kxy*kxz*sin(0.0174532925199433*th1)*cos(0.0174532925199433*th1) - kxz**2*sin(0.0174532925199433*th1)**2 + kyy*cos(0.0174532925199433*th1)**2 - 2*kyz*sin(0.0174532925199433*th1)*cos(0.0174532925199433*th1) + kzz*sin(0.0174532925199433*th1)**2 - 1,\n",
       " -kxy**2*cos(0.0174532925199433*th2)**2 + 2*kxy*kxz*sin(0.0174532925199433*th2)*cos(0.0174532925199433*th2) - kxz**2*sin(0.0174532925199433*th2)**2 + kyy*cos(0.0174532925199433*th2)**2 - 2*kyz*sin(0.0174532925199433*th2)*cos(0.0174532925199433*th2) + kzz*sin(0.0174532925199433*th2)**2 - 1.03015368960705,\n",
       " -kxy**2*cos(0.0174532925199433*th3)**2 + 2*kxy*kxz*sin(0.0174532925199433*th3)*cos(0.0174532925199433*th3) - kxz**2*sin(0.0174532925199433*th3)**2 + kyy*cos(0.0174532925199433*th3)**2 - 2*kyz*sin(0.0174532925199433*th3)*cos(0.0174532925199433*th3) + kzz*sin(0.0174532925199433*th3)**2 - 1.11697777844051,\n",
       " -kxy**2*cos(0.0174532925199433*th4)**2 + 2*kxy*kxz*sin(0.0174532925199433*th4)*cos(0.0174532925199433*th4) - kxz**2*sin(0.0174532925199433*th4)**2 + kyy*cos(0.0174532925199433*th4)**2 - 2*kyz*sin(0.0174532925199433*th4)*cos(0.0174532925199433*th4) + kzz*sin(0.0174532925199433*th4)**2 - 1.25,\n",
       " -kxy**2*cos(0.0174532925199433*th5)**2 + 2*kxy*kxz*sin(0.0174532925199433*th5)*cos(0.0174532925199433*th5) - kxz**2*sin(0.0174532925199433*th5)**2 + kyy*cos(0.0174532925199433*th5)**2 - 2*kyz*sin(0.0174532925199433*th5)*cos(0.0174532925199433*th5) + kzz*sin(0.0174532925199433*th5)**2 - 1.5,\n",
       " -kxy**2*cos(0.0174532925199433*th6)**2 + 2*kxy*kxz*sin(0.0174532925199433*th6)*cos(0.0174532925199433*th6) - kxz**2*sin(0.0174532925199433*th6)**2 + kyy*cos(0.0174532925199433*th6)**2 - 2*kyz*sin(0.0174532925199433*th6)*cos(0.0174532925199433*th6) + kzz*sin(0.0174532925199433*th6)**2 - 2.0]"
      ]
     },
     "execution_count": 141,
     "metadata": {},
     "output_type": "execute_result"
    }
   ],
   "source": [
    "eqs = []\n",
    "angles = sym.symbols('th1, th2, th3, th4, th5, th6')\n",
    "for ang in angles:\n",
    "    eq = kxx * ts_r[1,1].subs(th, ang / 180 * np.pi) - (ts_r[0,1].subs(th, ang / 180 * np.pi)**2)\n",
    "    eqs.append(eq)\n",
    "eqs2 = [eqs[i] - detks[i] for i in range(0, len(eqs), 1)]\n",
    "eqs3 = [sym.expand(eq.subs(kxx,1)) for eq in eqs2]\n",
    "eqs3"
   ]
  },
  {
   "cell_type": "code",
   "execution_count": 142,
   "metadata": {},
   "outputs": [
    {
     "data": {
      "text/plain": [
       "Matrix([\n",
       "[cos(0.0174532925199433*th1)**2, -2*sin(0.0174532925199433*th1)*cos(0.0174532925199433*th1), sin(0.0174532925199433*th1)**2, -cos(0.0174532925199433*th1)**2, -sin(0.0174532925199433*th1)**2, 2*sin(0.0174532925199433*th1)*cos(0.0174532925199433*th1)],\n",
       "[cos(0.0174532925199433*th2)**2, -2*sin(0.0174532925199433*th2)*cos(0.0174532925199433*th2), sin(0.0174532925199433*th2)**2, -cos(0.0174532925199433*th2)**2, -sin(0.0174532925199433*th2)**2, 2*sin(0.0174532925199433*th2)*cos(0.0174532925199433*th2)],\n",
       "[cos(0.0174532925199433*th3)**2, -2*sin(0.0174532925199433*th3)*cos(0.0174532925199433*th3), sin(0.0174532925199433*th3)**2, -cos(0.0174532925199433*th3)**2, -sin(0.0174532925199433*th3)**2, 2*sin(0.0174532925199433*th3)*cos(0.0174532925199433*th3)],\n",
       "[cos(0.0174532925199433*th4)**2, -2*sin(0.0174532925199433*th4)*cos(0.0174532925199433*th4), sin(0.0174532925199433*th4)**2, -cos(0.0174532925199433*th4)**2, -sin(0.0174532925199433*th4)**2, 2*sin(0.0174532925199433*th4)*cos(0.0174532925199433*th4)],\n",
       "[cos(0.0174532925199433*th5)**2, -2*sin(0.0174532925199433*th5)*cos(0.0174532925199433*th5), sin(0.0174532925199433*th5)**2, -cos(0.0174532925199433*th5)**2, -sin(0.0174532925199433*th5)**2, 2*sin(0.0174532925199433*th5)*cos(0.0174532925199433*th5)],\n",
       "[cos(0.0174532925199433*th6)**2, -2*sin(0.0174532925199433*th6)*cos(0.0174532925199433*th6), sin(0.0174532925199433*th6)**2, -cos(0.0174532925199433*th6)**2, -sin(0.0174532925199433*th6)**2, 2*sin(0.0174532925199433*th6)*cos(0.0174532925199433*th6)]])"
      ]
     },
     "execution_count": 142,
     "metadata": {},
     "output_type": "execute_result"
    }
   ],
   "source": [
    "M, b = sym.linear_eq_to_matrix(eqs3, [kyy, kyz, kzz, kxy**2, kxz**2, kxy * kxz])\n",
    "M"
   ]
  },
  {
   "cell_type": "code",
   "execution_count": 155,
   "metadata": {},
   "outputs": [
    {
     "data": {
      "text/plain": [
       "0"
      ]
     },
     "execution_count": 155,
     "metadata": {},
     "output_type": "execute_result"
    }
   ],
   "source": [
    "M[2:,2:].det()"
   ]
  },
  {
   "cell_type": "code",
   "execution_count": null,
   "metadata": {
    "collapsed": true
   },
   "outputs": [],
   "source": []
  }
 ],
 "metadata": {
  "kernelspec": {
   "display_name": "Python 3",
   "language": "python",
   "name": "python3"
  },
  "language_info": {
   "codemirror_mode": {
    "name": "ipython",
    "version": 3
   },
   "file_extension": ".py",
   "mimetype": "text/x-python",
   "name": "python",
   "nbconvert_exporter": "python",
   "pygments_lexer": "ipython3",
   "version": "3.6.3"
  }
 },
 "nbformat": 4,
 "nbformat_minor": 2
}
