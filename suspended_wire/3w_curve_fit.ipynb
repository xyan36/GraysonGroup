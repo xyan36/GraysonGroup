{
 "cells": [
  {
   "cell_type": "code",
   "execution_count": 21,
   "metadata": {
    "collapsed": true
   },
   "outputs": [],
   "source": [
    "import numpy as np\n",
    "import matplotlib.pyplot as plt\n",
    "import pandas as pd\n",
    "from scipy.optimize import curve_fit\n",
    "import os\n",
    "import sys\n",
    "% matplotlib inline"
   ]
  },
  {
   "cell_type": "code",
   "execution_count": 2,
   "metadata": {
    "collapsed": true
   },
   "outputs": [],
   "source": [
    "fname = '200625//200625_Bi2Ye30617_3w_1.txt'\n",
    "df = pd.read_csv(fname, sep = ' ')"
   ]
  },
  {
   "cell_type": "code",
   "execution_count": 9,
   "metadata": {
    "collapsed": true
   },
   "outputs": [],
   "source": [
    "alpha = 5e-3#temperature coefficient --need remeasure for better accuracy\n",
    "Re0 = 3.105#resistance at RT\n",
    "Rref = 3\n",
    "X1_ref = 0.0572512\n",
    "I1w = X1_ref / Rref\n",
    "l = 4e-3/2#half length of wire(= half gap width)\n",
    "width = 2e-3; #mm line width --\n",
    "thickness = 17e-6 #mm line thickness --\n",
    "S = width * thickness  #crosssectional area\n",
    "rou =  7.74e3#kg/m^3 density\n",
    "#correction_factor = 1 - 1.5 / (50 + 2.7 + 3.5) # 1 - R_all_3w_parts / R_total"
   ]
  },
  {
   "cell_type": "code",
   "execution_count": 12,
   "metadata": {
    "collapsed": true
   },
   "outputs": [],
   "source": [
    "def X3_calc(f1, k, cp, correction_factor = 1):\n",
    "    w1 = 2 * np.pi * f1\n",
    "    kappa = k / (rou * cp)\n",
    "    tau = 4 * l**2 / kappa\n",
    "    X3 = - alpha * Re0**2 * I1w**3 * l / (12 * k * S) * (1 / (1 + (w1 * tau / 5)**2))\n",
    "    return X3\n",
    "def Y3_calc(f1, k, cp, correction_factor = 1):\n",
    "    w1 = 2 * np.pi * f1\n",
    "    kappa = k / (rou * cp)\n",
    "    tau = 4 * l**2 / kappa\n",
    "    Y3 = alpha * Re0**2 * I1w**3 * l / (12 * k * S) * ((w1 * tau / 5) / (1 + (w1 * tau / 5)**2))\n",
    "    return Y3\n",
    "def X3_Y3_fit(fcombo, k, cp):\n",
    "    X3 = X3_calc(fcombo[:int(len(fcombo) / 2)], k, cp)\n",
    "    Y3 = Y3_calc(fcombo[int(len(fcombo) / 2):], k, cp)\n",
    "    return np.concatenate([X3,Y3])"
   ]
  },
  {
   "cell_type": "code",
   "execution_count": 13,
   "metadata": {},
   "outputs": [],
   "source": [
    "xdata = np.concatenate([df['Lockin1f'], df['Lockin1f']])\n",
    "ydata = np.concatenate([df['X3'], df['Y3']])\n",
    "popt, pcov = curve_fit(X3_Y3_fit, xdata, ydata, p0 = [10, 10])"
   ]
  },
  {
   "cell_type": "code",
   "execution_count": 15,
   "metadata": {},
   "outputs": [
    {
     "data": {
      "text/plain": [
       "array([[  3.02413624e-03,  -1.48008138e-09],\n",
       "       [ -1.48008138e-09,   3.54676751e+00]])"
      ]
     },
     "execution_count": 15,
     "metadata": {},
     "output_type": "execute_result"
    }
   ],
   "source": [
    "popt"
   ]
  },
  {
   "cell_type": "code",
   "execution_count": 27,
   "metadata": {},
   "outputs": [
    {
     "data": {
      "image/png": "[encoded data removed]",
      "text/plain": [
       "<Figure size 1152x432 with 2 Axes>"
      ]
     },
     "metadata": {},
     "output_type": "display_data"
    }
   ],
   "source": [
    "fig, axs = plt.subplots(1, 2, figsize = (16,6))\n",
    "\n",
    "f1 = np.arange(0.01, 100.01, 0.01)\n",
    "\n",
    "axs[0].scatter(df.Lockin1f, df.X3, label = 'X3')\n",
    "#axs[0].plot(f1, X3_calc(f1,*popt), label = 'X3_fit')\n",
    "axs[0].set_xlabel('f(Hz)')\n",
    "axs[0].set_ylabel('V(V)')\n",
    "axs[0].set_xscale('log')\n",
    "axs[0].set_xlim(0.01,100)\n",
    "axs[0].legend(loc = 'upper right')\n",
    "axs[0].set_ylim(df.X3.min() - 0.0001, df.X3.max() + 0.0002)\n",
    "\n",
    "axs[1].scatter(df.Lockin1f, df.Y3, label = 'Y3')\n",
    "#axs[1].plot(f1, Y3_calc(f1, *popt), label = 'Y3_fit')\n",
    "axs[1].set_xlabel('f(Hz)')\n",
    "axs[1].set_ylabel('V(V)')\n",
    "axs[1].set_xscale('log')\n",
    "axs[1].set_xlim(0.01,100)\n",
    "axs[1].legend(loc = 'upper right')\n",
    "axs[1].set_ylim(df.Y3.min() - 0.0001, df.Y3.max() + 0.0001)\n",
    "\n",
    "#plt.subplots_adjust(hspace = 0.2,wspace = 0.2)\n",
    "plt.tight_layout()\n",
    "fig.savefig(fname[:-4] + '_plot.jpg', dpi = 300)"
   ]
  },
  {
   "cell_type": "code",
   "execution_count": null,
   "metadata": {
    "collapsed": true
   },
   "outputs": [],
   "source": []
  }
 ],
 "metadata": {
  "kernelspec": {
   "display_name": "Python 3",
   "language": "python",
   "name": "python3"
  },
  "language_info": {
   "codemirror_mode": {
    "name": "ipython",
    "version": 3
   },
   "file_extension": ".py",
   "mimetype": "text/x-python",
   "name": "python",
   "nbconvert_exporter": "python",
   "pygments_lexer": "ipython3",
   "version": "3.6.3"
  }
 },
 "nbformat": 4,
 "nbformat_minor": 2
}
