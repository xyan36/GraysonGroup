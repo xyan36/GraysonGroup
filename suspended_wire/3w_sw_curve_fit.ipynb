{
 "cells": [
  {
   "cell_type": "code",
   "execution_count": 1,
   "metadata": {
    "collapsed": true
   },
   "outputs": [],
   "source": [
    "import numpy as np\n",
    "import matplotlib.pyplot as plt\n",
    "import pandas as pd\n",
    "from scipy.optimize import curve_fit\n",
    "import os\n",
    "import sys\n",
    "% matplotlib inline"
   ]
  },
  {
   "cell_type": "code",
   "execution_count": 12,
   "metadata": {},
   "outputs": [],
   "source": [
    "fname = '200709//200709_Bi2Te3_p2_3w_1.txt'\n",
    "fname2 = '200709//200709_Bi2Te3_p2_3w_2.txt'\n",
    "df = pd.read_csv(fname, sep = ' ')\n",
    "df2 = pd.read_csv(fname2, sep = ' ')"
   ]
  },
  {
   "cell_type": "code",
   "execution_count": 13,
   "metadata": {},
   "outputs": [
    {
     "data": {
      "text/html": [
       "<div>\n",
       "<style>\n",
       "    .dataframe thead tr:only-child th {\n",
       "        text-align: right;\n",
       "    }\n",
       "\n",
       "    .dataframe thead th {\n",
       "        text-align: left;\n",
       "    }\n",
       "\n",
       "    .dataframe tbody tr th {\n",
       "        vertical-align: top;\n",
       "    }\n",
       "</style>\n",
       "<table border=\"1\" class=\"dataframe\">\n",
       "  <thead>\n",
       "    <tr style=\"text-align: right;\">\n",
       "      <th></th>\n",
       "      <th>Date_time</th>\n",
       "      <th>Time</th>\n",
       "      <th>TC</th>\n",
       "      <th>SENS</th>\n",
       "      <th>Lockin1f</th>\n",
       "      <th>Lockin2f</th>\n",
       "      <th>X3</th>\n",
       "      <th>Y3</th>\n",
       "      <th>X3_ref</th>\n",
       "      <th>Y3_ref</th>\n",
       "    </tr>\n",
       "  </thead>\n",
       "  <tbody>\n",
       "    <tr>\n",
       "      <th>2020-07-10</th>\n",
       "      <td>10:53:23.741839</td>\n",
       "      <td>310.683770</td>\n",
       "      <td>11</td>\n",
       "      <td>12</td>\n",
       "      <td>10.000</td>\n",
       "      <td>10.0000</td>\n",
       "      <td>0.000003</td>\n",
       "      <td>1.499440e-07</td>\n",
       "      <td>-0.000004</td>\n",
       "      <td>7.096710e-07</td>\n",
       "    </tr>\n",
       "    <tr>\n",
       "      <th>2020-07-10</th>\n",
       "      <td>10:58:33.961583</td>\n",
       "      <td>620.903513</td>\n",
       "      <td>11</td>\n",
       "      <td>12</td>\n",
       "      <td>15.848</td>\n",
       "      <td>15.8477</td>\n",
       "      <td>0.000004</td>\n",
       "      <td>7.068770e-07</td>\n",
       "      <td>-0.000003</td>\n",
       "      <td>9.611320e-07</td>\n",
       "    </tr>\n",
       "    <tr>\n",
       "      <th>2020-07-10</th>\n",
       "      <td>11:03:39.103036</td>\n",
       "      <td>926.042966</td>\n",
       "      <td>11</td>\n",
       "      <td>12</td>\n",
       "      <td>25.110</td>\n",
       "      <td>25.1093</td>\n",
       "      <td>0.000004</td>\n",
       "      <td>2.412140e-07</td>\n",
       "      <td>-0.000003</td>\n",
       "      <td>1.479880e-06</td>\n",
       "    </tr>\n",
       "    <tr>\n",
       "      <th>2020-07-10</th>\n",
       "      <td>11:08:49.346781</td>\n",
       "      <td>1236.287711</td>\n",
       "      <td>11</td>\n",
       "      <td>12</td>\n",
       "      <td>39.810</td>\n",
       "      <td>39.8111</td>\n",
       "      <td>0.000004</td>\n",
       "      <td>3.585610e-07</td>\n",
       "      <td>-0.000002</td>\n",
       "      <td>4.824290e-07</td>\n",
       "    </tr>\n",
       "    <tr>\n",
       "      <th>2020-07-10</th>\n",
       "      <td>11:13:59.583525</td>\n",
       "      <td>1546.523456</td>\n",
       "      <td>11</td>\n",
       "      <td>12</td>\n",
       "      <td>63.090</td>\n",
       "      <td>63.0894</td>\n",
       "      <td>0.000004</td>\n",
       "      <td>-1.154840e-07</td>\n",
       "      <td>-0.000003</td>\n",
       "      <td>2.048920e-08</td>\n",
       "    </tr>\n",
       "  </tbody>\n",
       "</table>\n",
       "</div>"
      ],
      "text/plain": [
       "                  Date_time         Time  TC  SENS  Lockin1f  Lockin2f  \\\n",
       "2020-07-10  10:53:23.741839   310.683770  11    12    10.000   10.0000   \n",
       "2020-07-10  10:58:33.961583   620.903513  11    12    15.848   15.8477   \n",
       "2020-07-10  11:03:39.103036   926.042966  11    12    25.110   25.1093   \n",
       "2020-07-10  11:08:49.346781  1236.287711  11    12    39.810   39.8111   \n",
       "2020-07-10  11:13:59.583525  1546.523456  11    12    63.090   63.0894   \n",
       "\n",
       "                  X3            Y3    X3_ref        Y3_ref  \n",
       "2020-07-10  0.000003  1.499440e-07 -0.000004  7.096710e-07  \n",
       "2020-07-10  0.000004  7.068770e-07 -0.000003  9.611320e-07  \n",
       "2020-07-10  0.000004  2.412140e-07 -0.000003  1.479880e-06  \n",
       "2020-07-10  0.000004  3.585610e-07 -0.000002  4.824290e-07  \n",
       "2020-07-10  0.000004 -1.154840e-07 -0.000003  2.048920e-08  "
      ]
     },
     "execution_count": 13,
     "metadata": {},
     "output_type": "execute_result"
    }
   ],
   "source": [
    "df2.head()"
   ]
  },
  {
   "cell_type": "code",
   "execution_count": 34,
   "metadata": {
    "collapsed": true
   },
   "outputs": [],
   "source": [
    "alpha = 0.0048331#temperature coefficient --need remeasure for better accuracy\n",
    "Re0 = 3.105#resistance at RT\n",
    "Rref = 3\n",
    "X1_ref = 0.0572512\n",
    "I1w = X1_ref / Rref\n",
    "l = 4e-3/2#half length of wire(= half gap width)\n",
    "width = 2e-3; #mm line width --\n",
    "thickness = 50e-6 #mm line thickness --\n",
    "S = width * thickness  #crosssectional area\n",
    "rou =  7.74e3#kg/m^3 density\n",
    "#correction_factor = 1 - 1.5 / (50 + 2.7 + 3.5) # 1 - R_all_3w_parts / R_total"
   ]
  },
  {
   "cell_type": "code",
   "execution_count": 12,
   "metadata": {
    "collapsed": true
   },
   "outputs": [],
   "source": [
    "def X3_calc(f1, k, cp, correction_factor = 1):\n",
    "    w1 = 2 * np.pi * f1\n",
    "    kappa = k / (rou * cp)\n",
    "    tau = 4 * l**2 / kappa\n",
    "    X3 = - alpha * Re0**2 * I1w**3 * l / (12 * k * S) * (1 / (1 + (w1 * tau / 5)**2))\n",
    "    return X3\n",
    "def Y3_calc(f1, k, cp, correction_factor = 1):\n",
    "    w1 = 2 * np.pi * f1\n",
    "    kappa = k / (rou * cp)\n",
    "    tau = 4 * l**2 / kappa\n",
    "    Y3 = alpha * Re0**2 * I1w**3 * l / (12 * k * S) * ((w1 * tau / 5) / (1 + (w1 * tau / 5)**2))\n",
    "    return Y3\n",
    "def X3_Y3_fit(fcombo, k, cp):\n",
    "    X3 = X3_calc(fcombo[:int(len(fcombo) / 2)], k, cp)\n",
    "    Y3 = Y3_calc(fcombo[int(len(fcombo) / 2):], k, cp)\n",
    "    return np.concatenate([X3,Y3])"
   ]
  },
  {
   "cell_type": "code",
   "execution_count": 35,
   "metadata": {
    "collapsed": true
   },
   "outputs": [],
   "source": [
    "xdata = np.concatenate([df['Lockin1f'], df['Lockin1f']])\n",
    "ydata = np.concatenate([df['X3'], df['Y3']])\n",
    "popt, pcov = curve_fit(X3_Y3_fit, xdata, ydata, p0 = [10, 10])"
   ]
  },
  {
   "cell_type": "code",
   "execution_count": 38,
   "metadata": {},
   "outputs": [
    {
     "data": {
      "text/plain": [
       "(array([  4.45072804,  56.34909106]),\n",
       " array([[  3.26640917e-04,  -3.43099624e-12],\n",
       "        [ -3.43099624e-12,   3.83092171e-01]]))"
      ]
     },
     "execution_count": 38,
     "metadata": {},
     "output_type": "execute_result"
    }
   ],
   "source": [
    "popt,pcov"
   ]
  },
  {
   "cell_type": "code",
   "execution_count": 39,
   "metadata": {},
   "outputs": [
    {
     "data": {
      "image/png": "[encoded data removed]",
      "text/plain": [
       "<Figure size 1152x432 with 2 Axes>"
      ]
     },
     "metadata": {},
     "output_type": "display_data"
    }
   ],
   "source": [
    "fig, axs = plt.subplots(1, 2, figsize = (16,6))\n",
    "\n",
    "f1 = np.arange(0.01, 100.01, 0.01)\n",
    "\n",
    "axs[0].scatter(df.Lockin1f, df.X3, label = 'X3')\n",
    "axs[0].scatter(df.Lockin1f, df.X3_ref, label = 'X3_ref')\n",
    "#axs[0].scatter(df2.Lockin1f, df2.X3, label = 'X3 test2 (measured next day)')\n",
    "#axs[0].scatter(df2.Lockin1f, df2.X3_ref, label = 'X3_ref test2')\n",
    "#axs[0].plot(f1, X3_calc(f1,*popt), label = 'X3_fit')\n",
    "axs[0].set_xlabel('f(Hz)')\n",
    "axs[0].set_ylabel('V(V)')\n",
    "axs[0].set_xscale('log')\n",
    "axs[0].set_xlim(0.01,1000)\n",
    "axs[0].legend(loc = 'upper left')\n",
    "axs[0].set_ylim(df.X3.min() - 1e-6, df.X3.max() + 2e-6)\n",
    "\n",
    "axs[1].scatter(df.Lockin1f, df.Y3, label = 'Y3')\n",
    "axs[1].scatter(df.Lockin1f, df.Y3_ref, label = 'Y3_ref')\n",
    "#axs[1].scatter(df2.Lockin1f, df2.Y3, label = 'X3 test2')\n",
    "#axs[1].scatter(df2.Lockin1f, df2.Y3_ref, label = 'X3_ref test2')\n",
    "#axs[1].plot(f1, Y3_calc(f1, *popt), label = 'Y3_fit')\n",
    "axs[1].set_xlabel('f(Hz)')\n",
    "axs[1].set_ylabel('V(V)')\n",
    "axs[1].set_xscale('log')\n",
    "axs[1].set_xlim(0.01,1000)\n",
    "axs[1].legend(loc = 'upper right')\n",
    "axs[1].set_ylim(df.Y3.min() - 1e-6, df.Y3.max() + 1e-6)\n",
    "#axs[1].text(1,0.0001, f\"fitted k = {round(popt[0],4)} W/mK\\nfitted cp = {round(popt[1],4)} J/kgK\", fontsize = 14)\n",
    "\n",
    "#plt.subplots_adjust(hspace = 0.2,wspace = 0.2)\n",
    "plt.tight_layout()\n",
    "fig.savefig(fname[:-4] + '_raw.jpg', dpi = 300)"
   ]
  },
  {
   "cell_type": "markdown",
   "metadata": {},
   "source": [
    "## help(plt.legend)"
   ]
  },
  {
   "cell_type": "code",
   "execution_count": null,
   "metadata": {
    "collapsed": true
   },
   "outputs": [],
   "source": []
  }
 ],
 "metadata": {
  "kernelspec": {
   "display_name": "Python 3",
   "language": "python",
   "name": "python3"
  },
  "language_info": {
   "codemirror_mode": {
    "name": "ipython",
    "version": 3
   },
   "file_extension": ".py",
   "mimetype": "text/x-python",
   "name": "python",
   "nbconvert_exporter": "python",
   "pygments_lexer": "ipython3",
   "version": "3.6.3"
  }
 },
 "nbformat": 4,
 "nbformat_minor": 2
}
