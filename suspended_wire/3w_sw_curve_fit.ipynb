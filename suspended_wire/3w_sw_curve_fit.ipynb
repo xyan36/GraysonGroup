{
 "cells": [
  {
   "cell_type": "code",
   "execution_count": 1,
   "metadata": {
    "collapsed": true
   },
   "outputs": [],
   "source": [
    "import numpy as np\n",
    "import matplotlib.pyplot as plt\n",
    "import pandas as pd\n",
    "from scipy.optimize import curve_fit\n",
    "import os\n",
    "import sys\n",
    "% matplotlib inline"
   ]
  },
  {
   "cell_type": "code",
   "execution_count": 2,
   "metadata": {
    "collapsed": true
   },
   "outputs": [],
   "source": [
    "fname = '200625//200625_Bi2Ye30617_3w_1.txt'\n",
    "df = pd.read_csv(fname, sep = ' ')\n"
   ]
  },
  {
   "cell_type": "code",
   "execution_count": 3,
   "metadata": {},
   "outputs": [
    {
     "data": {
      "text/html": [
       "<div>\n",
       "<style>\n",
       "    .dataframe thead tr:only-child th {\n",
       "        text-align: right;\n",
       "    }\n",
       "\n",
       "    .dataframe thead th {\n",
       "        text-align: left;\n",
       "    }\n",
       "\n",
       "    .dataframe tbody tr th {\n",
       "        vertical-align: top;\n",
       "    }\n",
       "</style>\n",
       "<table border=\"1\" class=\"dataframe\">\n",
       "  <thead>\n",
       "    <tr style=\"text-align: right;\">\n",
       "      <th></th>\n",
       "      <th>Date_time</th>\n",
       "      <th>Time</th>\n",
       "      <th>TC</th>\n",
       "      <th>SENS</th>\n",
       "      <th>Lockin1f</th>\n",
       "      <th>Lockin2f</th>\n",
       "      <th>X3</th>\n",
       "      <th>Y3</th>\n",
       "      <th>X3_ref</th>\n",
       "      <th>Y3_ref</th>\n",
       "    </tr>\n",
       "  </thead>\n",
       "  <tbody>\n",
       "    <tr>\n",
       "      <th>0</th>\n",
       "      <td>2020-06-25</td>\n",
       "      <td>12:05:36.4154242277.955291748047</td>\n",
       "      <td>15</td>\n",
       "      <td>16</td>\n",
       "      <td>0.0100</td>\n",
       "      <td>0.0099</td>\n",
       "      <td>-0.000122</td>\n",
       "      <td>0.000004</td>\n",
       "      <td>0.000012</td>\n",
       "      <td>-4.768410e-07</td>\n",
       "    </tr>\n",
       "    <tr>\n",
       "      <th>1</th>\n",
       "      <td>2020-06-25</td>\n",
       "      <td>12:35:41.6226764083.162543773651</td>\n",
       "      <td>15</td>\n",
       "      <td>16</td>\n",
       "      <td>0.0158</td>\n",
       "      <td>0.0100</td>\n",
       "      <td>-0.000123</td>\n",
       "      <td>0.000006</td>\n",
       "      <td>0.000010</td>\n",
       "      <td>-1.192100e-06</td>\n",
       "    </tr>\n",
       "    <tr>\n",
       "      <th>2</th>\n",
       "      <td>2020-06-25</td>\n",
       "      <td>13:05:46.8279285888.366795301437</td>\n",
       "      <td>15</td>\n",
       "      <td>16</td>\n",
       "      <td>0.0251</td>\n",
       "      <td>0.0157</td>\n",
       "      <td>-0.000122</td>\n",
       "      <td>0.000008</td>\n",
       "      <td>0.000010</td>\n",
       "      <td>-7.748640e-07</td>\n",
       "    </tr>\n",
       "    <tr>\n",
       "      <th>3</th>\n",
       "      <td>2020-06-25</td>\n",
       "      <td>13:36:12.0503257713.591192483902</td>\n",
       "      <td>15</td>\n",
       "      <td>16</td>\n",
       "      <td>0.0398</td>\n",
       "      <td>0.0337</td>\n",
       "      <td>-0.000121</td>\n",
       "      <td>0.000011</td>\n",
       "      <td>0.000010</td>\n",
       "      <td>-9.536820e-07</td>\n",
       "    </tr>\n",
       "    <tr>\n",
       "      <th>4</th>\n",
       "      <td>2020-06-25</td>\n",
       "      <td>14:06:57.2938669558.83373427391</td>\n",
       "      <td>15</td>\n",
       "      <td>16</td>\n",
       "      <td>0.0631</td>\n",
       "      <td>0.0631</td>\n",
       "      <td>-0.000119</td>\n",
       "      <td>0.000016</td>\n",
       "      <td>0.000009</td>\n",
       "      <td>-1.192100e-06</td>\n",
       "    </tr>\n",
       "  </tbody>\n",
       "</table>\n",
       "</div>"
      ],
      "text/plain": [
       "    Date_time                              Time  TC  SENS  Lockin1f  Lockin2f  \\\n",
       "0  2020-06-25  12:05:36.4154242277.955291748047  15    16    0.0100    0.0099   \n",
       "1  2020-06-25  12:35:41.6226764083.162543773651  15    16    0.0158    0.0100   \n",
       "2  2020-06-25  13:05:46.8279285888.366795301437  15    16    0.0251    0.0157   \n",
       "3  2020-06-25  13:36:12.0503257713.591192483902  15    16    0.0398    0.0337   \n",
       "4  2020-06-25   14:06:57.2938669558.83373427391  15    16    0.0631    0.0631   \n",
       "\n",
       "         X3        Y3    X3_ref        Y3_ref  \n",
       "0 -0.000122  0.000004  0.000012 -4.768410e-07  \n",
       "1 -0.000123  0.000006  0.000010 -1.192100e-06  \n",
       "2 -0.000122  0.000008  0.000010 -7.748640e-07  \n",
       "3 -0.000121  0.000011  0.000010 -9.536820e-07  \n",
       "4 -0.000119  0.000016  0.000009 -1.192100e-06  "
      ]
     },
     "execution_count": 3,
     "metadata": {},
     "output_type": "execute_result"
    }
   ],
   "source": [
    "df.head()"
   ]
  },
  {
   "cell_type": "code",
   "execution_count": 4,
   "metadata": {
    "collapsed": true
   },
   "outputs": [],
   "source": [
    "alpha = 0.0048331#temperature coefficient --need remeasure for better accuracy\n",
    "Re0 = 3.105#resistance at RT\n",
    "Rref = 3\n",
    "X1_ref = 0.0572512\n",
    "I1w = X1_ref / Rref\n",
    "l = 4.5e-3/2#half length of wire(= half gap width)\n",
    "width = 2.5e-3; #mm line width --\n",
    "thickness = 50e-6 #um line thickness --\n",
    "S = width * thickness  #crosssectional area\n",
    "rou =  7.74e3#kg/m^3 density\n",
    "#correction_factor = 1 - 1.5 / (50 + 2.7 + 3.5) # 1 - R_all_3w_parts / R_total"
   ]
  },
  {
   "cell_type": "code",
   "execution_count": 5,
   "metadata": {
    "collapsed": true
   },
   "outputs": [],
   "source": [
    "def X3_calc(f1, k, cp, correction_factor = 1):\n",
    "    w1 = 2 * np.pi * f1\n",
    "    kappa = k / (rou * cp)\n",
    "    tau = 4 * l**2 / kappa\n",
    "    X3 = - alpha * Re0**2 * I1w**3 * l / (12 * k * S) * (1 / (1 + (w1 * tau / 5)**2))\n",
    "    return X3\n",
    "def Y3_calc(f1, k, cp, correction_factor = 1):\n",
    "    w1 = 2 * np.pi * f1\n",
    "    kappa = k / (rou * cp)\n",
    "    tau = 4 * l**2 / kappa\n",
    "    Y3 = alpha * Re0**2 * I1w**3 * l / (12 * k * S) * ((w1 * tau / 5) / (1 + (w1 * tau / 5)**2))\n",
    "    return Y3\n",
    "def X3_Y3_fit(fcombo, k, cp):\n",
    "    X3 = X3_calc(fcombo[:int(len(fcombo) / 2)], k, cp)\n",
    "    Y3 = Y3_calc(fcombo[int(len(fcombo) / 2):], k, cp)\n",
    "    return np.concatenate([X3,Y3])"
   ]
  },
  {
   "cell_type": "code",
   "execution_count": 41,
   "metadata": {},
   "outputs": [
    {
     "data": {
      "text/plain": [
       "1.5673499999999998"
      ]
     },
     "execution_count": 41,
     "metadata": {},
     "output_type": "execute_result"
    }
   ],
   "source": []
  },
  {
   "cell_type": "code",
   "execution_count": 6,
   "metadata": {
    "collapsed": true
   },
   "outputs": [],
   "source": [
    "xdata = np.concatenate([df['Lockin1f'], df['Lockin1f']])\n",
    "ydata = np.concatenate([df['X3'], df['Y3']])\n",
    "popt, pcov = curve_fit(X3_Y3_fit, xdata, ydata, p0 = [10, 10])"
   ]
  },
  {
   "cell_type": "code",
   "execution_count": 7,
   "metadata": {},
   "outputs": [
    {
     "data": {
      "text/plain": [
       "(array([  4.00565526,  40.07046282]),\n",
       " array([[  2.64579196e-04,  -1.06321496e-10],\n",
       "        [ -1.06321496e-10,   1.93721393e-01]]))"
      ]
     },
     "execution_count": 7,
     "metadata": {},
     "output_type": "execute_result"
    }
   ],
   "source": [
    "popt,pcov"
   ]
  },
  {
   "cell_type": "code",
   "execution_count": 12,
   "metadata": {
    "scrolled": false
   },
   "outputs": [
    {
     "data": {
      "image/png": "[encoded data removed]",
      "text/plain": [
       "<Figure size 1152x432 with 2 Axes>"
      ]
     },
     "metadata": {},
     "output_type": "display_data"
    }
   ],
   "source": [
    "fig, axs = plt.subplots(1, 2, figsize = (16,6))\n",
    "fz = 24\n",
    "\n",
    "f1 = np.arange(0.01, 100.01, 0.01)\n",
    "\n",
    "axs[0].scatter(df.Lockin1f, df.X3, label = 'X3')\n",
    "#axs[0].scatter(df.Lockin1f, df.X3_ref, label = 'X3_ref')\n",
    "#axs[0].scatter(df2.Lockin1f, df2.X3, label = 'X3 test2 (measured next day)')\n",
    "#axs[0].scatter(df2.Lockin1f, df2.X3_ref, label = 'X3_ref test2')\n",
    "axs[0].plot(f1, X3_calc(f1,*popt), label = 'X3_fit')\n",
    "axs[0].set_xlabel('f(Hz)', fontsize = fz)\n",
    "axs[0].set_ylabel('V(V)', fontsize = fz)\n",
    "axs[0].set_xscale('log')\n",
    "#axs[0].set_xlim(0.01,1000)\n",
    "axs[0].legend(loc = 'upper left', fontsize = 20)\n",
    "axs[0].tick_params(labelsize = 20)\n",
    "axs[0].set_ylim(df.X3.min() - 10e-6, df.X3.max() + 10e-6)\n",
    "\n",
    "axs[1].scatter(df.Lockin1f, df.Y3, label = 'Y3')\n",
    "#axs[1].scatter(df.Lockin1f, df.Y3_ref, label = 'Y3_ref')\n",
    "#axs[1].scatter(df2.Lockin1f, df2.Y3, label = 'X3 test2')\n",
    "#axs[1].scatter(df2.Lockin1f, df2.Y3_ref, label = 'X3_ref test2')\n",
    "axs[1].plot(f1, Y3_calc(f1, *popt), label = 'Y3_fit')\n",
    "axs[1].set_xlabel('f(Hz)', fontsize = fz)\n",
    "axs[1].set_ylabel('V(V)', fontsize = fz)\n",
    "axs[1].set_xscale('log')\n",
    "#axs[1].set_xlim(0.01,1000)\n",
    "axs[1].tick_params(labelsize = 20)\n",
    "axs[1].legend(loc = 'upper left', fontsize = 20)\n",
    "axs[1].set_ylim(df.Y3.min() - 10e-6, df.Y3.max() + 10e-6)\n",
    "#axs[1].text(0.6,0.8, f\"fitted k = {round(popt[0],2)} W/mK\\nfitted cp = {round(popt[1],2)} J/kgK\", \n",
    "#            fontsize = 14, transform=axs[1].transAxes)\n",
    "\n",
    "#plt.subplots_adjust(hspace = 0.2,wspace = 0.2)\n",
    "plt.tight_layout()\n",
    "fig.savefig(fname[:-4] + '_raw.jpg', dpi = 300)"
   ]
  },
  {
   "cell_type": "markdown",
   "metadata": {},
   "source": [
    "## help(plt.legend)"
   ]
  },
  {
   "cell_type": "code",
   "execution_count": null,
   "metadata": {
    "collapsed": true
   },
   "outputs": [],
   "source": []
  }
 ],
 "metadata": {
  "kernelspec": {
   "display_name": "Python 3",
   "language": "python",
   "name": "python3"
  },
  "language_info": {
   "codemirror_mode": {
    "name": "ipython",
    "version": 3
   },
   "file_extension": ".py",
   "mimetype": "text/x-python",
   "name": "python",
   "nbconvert_exporter": "python",
   "pygments_lexer": "ipython3",
   "version": "3.6.3"
  }
 },
 "nbformat": 4,
 "nbformat_minor": 2
}
