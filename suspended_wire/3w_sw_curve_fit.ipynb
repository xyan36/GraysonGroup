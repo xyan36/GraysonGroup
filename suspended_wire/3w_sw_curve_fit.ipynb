{
 "cells": [
  {
   "cell_type": "code",
   "execution_count": 2,
   "metadata": {
    "collapsed": true
   },
   "outputs": [],
   "source": [
    "import numpy as np\n",
    "import matplotlib.pyplot as plt\n",
    "import pandas as pd\n",
    "from scipy.optimize import curve_fit\n",
    "import os\n",
    "import sys\n",
    "% matplotlib inline"
   ]
  },
  {
   "cell_type": "code",
   "execution_count": 99,
   "metadata": {},
   "outputs": [],
   "source": [
    "fname = '200625//200625_Bi2Ye30617_3w_1.txt'\n",
    "#fname = '210326//210326_Bi2Te3_p5_3w_vac_1.txt'\n",
    "#fname = '210623//210623_Bi2Te3_p11_1mm_3w_1.txt'\n",
    "#fname = '210630//210630_Bi2Te3_p11_2mm_3w_1.txt'\n",
    "df = pd.read_csv(fname, sep = ' ')"
   ]
  },
  {
   "cell_type": "code",
   "execution_count": 100,
   "metadata": {},
   "outputs": [],
   "source": [
    "df = df.set_index('Time')"
   ]
  },
  {
   "cell_type": "code",
   "execution_count": 101,
   "metadata": {},
   "outputs": [
    {
     "data": {
      "text/plain": [
       "0.3981"
      ]
     },
     "execution_count": 101,
     "metadata": {},
     "output_type": "execute_result"
    }
   ],
   "source": [
    "df['Lockin1f'][df['Y3'].idxmax()]"
   ]
  },
  {
   "cell_type": "code",
   "execution_count": 56,
   "metadata": {},
   "outputs": [
    {
     "data": {
      "text/html": [
       "<div>\n",
       "<style scoped>\n",
       "    .dataframe tbody tr th:only-of-type {\n",
       "        vertical-align: middle;\n",
       "    }\n",
       "\n",
       "    .dataframe tbody tr th {\n",
       "        vertical-align: top;\n",
       "    }\n",
       "\n",
       "    .dataframe thead th {\n",
       "        text-align: right;\n",
       "    }\n",
       "</style>\n",
       "<table border=\"1\" class=\"dataframe\">\n",
       "  <thead>\n",
       "    <tr style=\"text-align: right;\">\n",
       "      <th></th>\n",
       "      <th>Date_time</th>\n",
       "      <th>TC</th>\n",
       "      <th>SENS</th>\n",
       "      <th>Lockin1f</th>\n",
       "      <th>Lockin2f</th>\n",
       "      <th>X3</th>\n",
       "      <th>Y3</th>\n",
       "      <th>X3_ref</th>\n",
       "      <th>Y3_ref</th>\n",
       "    </tr>\n",
       "    <tr>\n",
       "      <th>Time</th>\n",
       "      <th></th>\n",
       "      <th></th>\n",
       "      <th></th>\n",
       "      <th></th>\n",
       "      <th></th>\n",
       "      <th></th>\n",
       "      <th></th>\n",
       "      <th></th>\n",
       "      <th></th>\n",
       "    </tr>\n",
       "  </thead>\n",
       "  <tbody>\n",
       "    <tr>\n",
       "      <th>1926.090166</th>\n",
       "      <td>13:09:19.267001</td>\n",
       "      <td>15</td>\n",
       "      <td>21</td>\n",
       "      <td>0.0100</td>\n",
       "      <td>0.0091</td>\n",
       "      <td>-0.000872</td>\n",
       "      <td>0.000024</td>\n",
       "      <td>0.000168</td>\n",
       "      <td>-0.000005</td>\n",
       "    </tr>\n",
       "    <tr>\n",
       "      <th>3811.369998</th>\n",
       "      <td>13:40:44.547833</td>\n",
       "      <td>15</td>\n",
       "      <td>21</td>\n",
       "      <td>0.0158</td>\n",
       "      <td>0.0157</td>\n",
       "      <td>-0.000881</td>\n",
       "      <td>0.000035</td>\n",
       "      <td>0.000163</td>\n",
       "      <td>-0.000007</td>\n",
       "    </tr>\n",
       "    <tr>\n",
       "      <th>5676.636685</th>\n",
       "      <td>14:11:49.813520</td>\n",
       "      <td>15</td>\n",
       "      <td>21</td>\n",
       "      <td>0.0251</td>\n",
       "      <td>0.0250</td>\n",
       "      <td>-0.000876</td>\n",
       "      <td>0.000051</td>\n",
       "      <td>0.000163</td>\n",
       "      <td>-0.000010</td>\n",
       "    </tr>\n",
       "    <tr>\n",
       "      <th>7561.912517</th>\n",
       "      <td>14:43:15.088351</td>\n",
       "      <td>15</td>\n",
       "      <td>21</td>\n",
       "      <td>0.0398</td>\n",
       "      <td>0.0397</td>\n",
       "      <td>-0.000875</td>\n",
       "      <td>0.000081</td>\n",
       "      <td>0.000161</td>\n",
       "      <td>-0.000016</td>\n",
       "    </tr>\n",
       "    <tr>\n",
       "      <th>9407.154059</th>\n",
       "      <td>15:14:00.330893</td>\n",
       "      <td>15</td>\n",
       "      <td>21</td>\n",
       "      <td>0.0631</td>\n",
       "      <td>0.0631</td>\n",
       "      <td>-0.000862</td>\n",
       "      <td>0.000127</td>\n",
       "      <td>0.000159</td>\n",
       "      <td>-0.000023</td>\n",
       "    </tr>\n",
       "  </tbody>\n",
       "</table>\n",
       "</div>"
      ],
      "text/plain": [
       "                   Date_time  TC  SENS  Lockin1f  Lockin2f        X3  \\\n",
       "Time                                                                   \n",
       "1926.090166  13:09:19.267001  15    21    0.0100    0.0091 -0.000872   \n",
       "3811.369998  13:40:44.547833  15    21    0.0158    0.0157 -0.000881   \n",
       "5676.636685  14:11:49.813520  15    21    0.0251    0.0250 -0.000876   \n",
       "7561.912517  14:43:15.088351  15    21    0.0398    0.0397 -0.000875   \n",
       "9407.154059  15:14:00.330893  15    21    0.0631    0.0631 -0.000862   \n",
       "\n",
       "                   Y3    X3_ref    Y3_ref  \n",
       "Time                                       \n",
       "1926.090166  0.000024  0.000168 -0.000005  \n",
       "3811.369998  0.000035  0.000163 -0.000007  \n",
       "5676.636685  0.000051  0.000163 -0.000010  \n",
       "7561.912517  0.000081  0.000161 -0.000016  \n",
       "9407.154059  0.000127  0.000159 -0.000023  "
      ]
     },
     "execution_count": 56,
     "metadata": {},
     "output_type": "execute_result"
    }
   ],
   "source": []
  },
  {
   "cell_type": "code",
   "execution_count": 64,
   "metadata": {},
   "outputs": [
    {
     "data": {
      "image/png": "[encoded data removed]",
      "text/plain": [
       "<Figure size 1152x432 with 2 Axes>"
      ]
     },
     "metadata": {},
     "output_type": "display_data"
    }
   ],
   "source": [
    "fig, axs = plt.subplots(1, 2, figsize = (16,6))\n",
    "fz = 24\n",
    "\n",
    "axs[0].scatter(df.Lockin1f, df.X3, label = 'X3')\n",
    "axs[0].scatter(df.Lockin1f, df.X3_ref, label = 'X3_ref')\n",
    "axs[0].set_xlabel('f(Hz)', fontsize = fz)\n",
    "axs[0].set_ylabel('V(V)', fontsize = fz)\n",
    "axs[0].set_xscale('log')\n",
    "#axs[0].set_xlim(0.01,1000)\n",
    "axs[0].legend(loc = 'upper left', fontsize = 20)\n",
    "axs[0].tick_params(labelsize = 20)\n",
    "#axs[0].set_ylim(df.X3.min() - 10e-6, df.X3.max() + 10e-6)\n",
    "axs[0].set_ylim(min(df.X3_ref.min(),df.X3.min()) - 1000e-6, max(df.X3_ref.max(),df.X3.max()) + 1000e-6)\n",
    "axs[1].scatter(df.Lockin1f, df.Y3, label = 'Y3')\n",
    "axs[1].scatter(df.Lockin1f, df.Y3_ref, label = 'Y3_ref')\n",
    "axs[1].set_xlabel('f(Hz)', fontsize = fz)\n",
    "axs[1].set_ylabel('V(V)', fontsize = fz)\n",
    "axs[1].set_xscale('log')\n",
    "#axs[1].set_xlim(0.01,1000)\n",
    "axs[1].tick_params(labelsize = 20)\n",
    "axs[1].legend(loc = 'upper left', fontsize = 20)\n",
    "axs[1].set_ylim(min(df.Y3_ref.min(),df.Y3.min()) - 100e-6, max(df.Y3_ref.max(),df.Y3.max()) + 100e-6)\n",
    "#plt.subplots_adjust(hspace = 0.2,wspace = 0.2)\n",
    "plt.tight_layout()\n",
    "#fig.savefig(fname[:-4] + '_raw.jpg', dpi = 100)"
   ]
  },
  {
   "cell_type": "code",
   "execution_count": 15,
   "metadata": {},
   "outputs": [
    {
     "name": "stdout",
     "output_type": "stream",
     "text": [
      "Help on method min in module pandas.core.frame:\n",
      "\n",
      "min(axis=None, skipna=None, level=None, numeric_only=None, **kwargs) method of pandas.core.frame.DataFrame instance\n",
      "    This method returns the minimum of the values in the object.\n",
      "                If you want the *index* of the minimum, use ``idxmin``. This is\n",
      "                the equivalent of the ``numpy.ndarray`` method ``argmin``.\n",
      "    \n",
      "    Parameters\n",
      "    ----------\n",
      "    axis : {index (0), columns (1)}\n",
      "    skipna : boolean, default True\n",
      "        Exclude NA/null values. If an entire row/column is NA, the result\n",
      "        will be NA\n",
      "    level : int or level name, default None\n",
      "        If the axis is a MultiIndex (hierarchical), count along a\n",
      "        particular level, collapsing into a Series\n",
      "    numeric_only : boolean, default None\n",
      "        Include only float, int, boolean columns. If None, will attempt to use\n",
      "        everything, then use only numeric data. Not implemented for Series.\n",
      "    \n",
      "    Returns\n",
      "    -------\n",
      "    min : Series or DataFrame (if level specified)\n",
      "\n"
     ]
    }
   ],
   "source": [
    "help(df.min)"
   ]
  },
  {
   "cell_type": "code",
   "execution_count": 113,
   "metadata": {},
   "outputs": [
    {
     "data": {
      "text/plain": [
       "0.8486381278088394"
      ]
     },
     "execution_count": 113,
     "metadata": {},
     "output_type": "execute_result"
    }
   ],
   "source": [
    "alpha = 0.0062842#0.0062842#0.0065321  ##0.0048331#0.0048375 #0.0048331#temperature coefficient\n",
    "Rref = 10.029#3.006829724\n",
    "V_input = 0.9 #0.9#0.7  ##1.1\n",
    "X1 = 0.130601 #0.130601 #0.13939   ##0.0591204#0.0443347\n",
    "X1_ref = 0.105095#0.105095#0.0741048  ##0.0572512#0.047478\n",
    "I1w = X1_ref / Rref\n",
    "Re0 = Rref * X1 / X1_ref #sample resistance at 0 current\n",
    "l = 8e-3/2 #4e-3/2#half length of wire(= half gap width)\n",
    "width = 2.3e-3 #2.3e-3 #1.3e-3; #mm line width --\n",
    "#thickness = 100e-6  ##43.2375e-6#15.12e-6 #um line thickness --\n",
    "#S = width * thickness  #crosssectional area\n",
    "rou =  7.74e3 #kg/m^3 density\n",
    "\n",
    "#for suspended wire, only gap region is 3w bearing part (4pt resistance)\n",
    "R2pt = 22.31\n",
    "correction_factor = 1 - Re0 / (50 + Rref + R2pt) # 1 - R_all_3w_parts / R_total\n",
    "correction_factor"
   ]
  },
  {
   "cell_type": "code",
   "execution_count": 11,
   "metadata": {},
   "outputs": [
    {
     "data": {
      "text/plain": [
       "18.864396233442367"
      ]
     },
     "execution_count": 11,
     "metadata": {},
     "output_type": "execute_result"
    }
   ],
   "source": [
    "Re0#P-11-1mm"
   ]
  },
  {
   "cell_type": "code",
   "execution_count": 24,
   "metadata": {},
   "outputs": [
    {
     "data": {
      "text/plain": [
       "12.46298519434797"
      ]
     },
     "execution_count": 24,
     "metadata": {},
     "output_type": "execute_result"
    }
   ],
   "source": [
    "Re0#P-11-2mm"
   ]
  },
  {
   "cell_type": "code",
   "execution_count": 41,
   "metadata": {
    "collapsed": true
   },
   "outputs": [],
   "source": [
    "def X3_calc(f1, k, cp):\n",
    "    w1 = 2 * np.pi * f1\n",
    "    kappa = k / (rou * cp)\n",
    "    tau = 4 * l**2 / kappa\n",
    "    X3 = - alpha * Re0**2 * I1w**3 * l / (12 * k * S) * (1 / (1 + (w1 * tau / 5)**2)) * correction_factor\n",
    "    return X3\n",
    "def Y3_calc(f1, k, cp):\n",
    "    w1 = 2 * np.pi * f1\n",
    "    kappa = k / (rou * cp)\n",
    "    tau = 4 * l**2 / kappa\n",
    "    Y3 = alpha * Re0**2 * I1w**3 * l / (12 * k * S) * ((w1 * tau / 5) / (1 + (w1 * tau / 5)**2)) * correction_factor\n",
    "    return Y3\n",
    "def X3_Y3_fit(fcombo, k, cp):\n",
    "    X3 = X3_calc(fcombo[:int(len(fcombo) / 2)], k, cp)\n",
    "    Y3 = Y3_calc(fcombo[int(len(fcombo) / 2):], k, cp)\n",
    "    return np.concatenate([X3,Y3])"
   ]
  },
  {
   "cell_type": "code",
   "execution_count": 103,
   "metadata": {
    "collapsed": true
   },
   "outputs": [],
   "source": [
    "def X3_calc(f1, kt, k_cp):\n",
    "    w1 = 2 * np.pi * f1\n",
    "    kappa = k_cp / rou\n",
    "    tau = 4 * l**2 / kappa\n",
    "    X3 = - alpha * Re0**2 * I1w**3 * l / (12 * kt * width) * (1 / (1 + (w1 * tau / 5)**2)) * correction_factor\n",
    "    return X3\n",
    "def Y3_calc(f1, kt, k_cp):\n",
    "    w1 = 2 * np.pi * f1\n",
    "    kappa = k_cp / rou\n",
    "    tau = 4 * l**2 / kappa\n",
    "    Y3 = alpha * Re0**2 * I1w**3 * l / (12 * kt * width) * ((w1 * tau / 5) / (1 + (w1 * tau / 5)**2)) * correction_factor\n",
    "    return Y3\n",
    "def X3_Y3_fit(fcombo, kt, k_cp):\n",
    "    X3 = X3_calc(fcombo[:int(len(fcombo) / 2)], kt, k_cp)\n",
    "    Y3 = Y3_calc(fcombo[int(len(fcombo) / 2):], kt, k_cp)\n",
    "    return np.concatenate([X3,Y3])"
   ]
  },
  {
   "cell_type": "code",
   "execution_count": 13,
   "metadata": {},
   "outputs": [
    {
     "name": "stdout",
     "output_type": "stream",
     "text": [
      "Help on function curve_fit in module scipy.optimize.minpack:\n",
      "\n",
      "curve_fit(f, xdata, ydata, p0=None, sigma=None, absolute_sigma=False, check_finite=True, bounds=(-inf, inf), method=None, jac=None, **kwargs)\n",
      "    Use non-linear least squares to fit a function, f, to data.\n",
      "    \n",
      "    Assumes ``ydata = f(xdata, *params) + eps``\n",
      "    \n",
      "    Parameters\n",
      "    ----------\n",
      "    f : callable\n",
      "        The model function, f(x, ...).  It must take the independent\n",
      "        variable as the first argument and the parameters to fit as\n",
      "        separate remaining arguments.\n",
      "    xdata : array_like or object\n",
      "        The independent variable where the data is measured.\n",
      "        Should usually be an M-length sequence or an (k,M)-shaped array for\n",
      "        functions with k predictors, but can actually be any object.\n",
      "    ydata : array_like\n",
      "        The dependent data, a length M array - nominally ``f(xdata, ...)``.\n",
      "    p0 : array_like, optional\n",
      "        Initial guess for the parameters (length N).  If None, then the\n",
      "        initial values will all be 1 (if the number of parameters for the\n",
      "        function can be determined using introspection, otherwise a\n",
      "        ValueError is raised).\n",
      "    sigma : None or M-length sequence or MxM array, optional\n",
      "        Determines the uncertainty in `ydata`. If we define residuals as\n",
      "        ``r = ydata - f(xdata, *popt)``, then the interpretation of `sigma`\n",
      "        depends on its number of dimensions:\n",
      "    \n",
      "            - A 1-d `sigma` should contain values of standard deviations of\n",
      "              errors in `ydata`. In this case, the optimized function is\n",
      "              ``chisq = sum((r / sigma) ** 2)``.\n",
      "    \n",
      "            - A 2-d `sigma` should contain the covariance matrix of\n",
      "              errors in `ydata`. In this case, the optimized function is\n",
      "              ``chisq = r.T @ inv(sigma) @ r``.\n",
      "    \n",
      "              .. versionadded:: 0.19\n",
      "    \n",
      "        None (default) is equivalent of 1-d `sigma` filled with ones.\n",
      "    absolute_sigma : bool, optional\n",
      "        If True, `sigma` is used in an absolute sense and the estimated parameter\n",
      "        covariance `pcov` reflects these absolute values.\n",
      "    \n",
      "        If False, only the relative magnitudes of the `sigma` values matter.\n",
      "        The returned parameter covariance matrix `pcov` is based on scaling\n",
      "        `sigma` by a constant factor. This constant is set by demanding that the\n",
      "        reduced `chisq` for the optimal parameters `popt` when using the\n",
      "        *scaled* `sigma` equals unity. In other words, `sigma` is scaled to\n",
      "        match the sample variance of the residuals after the fit.\n",
      "        Mathematically,\n",
      "        ``pcov(absolute_sigma=False) = pcov(absolute_sigma=True) * chisq(popt)/(M-N)``\n",
      "    check_finite : bool, optional\n",
      "        If True, check that the input arrays do not contain nans of infs,\n",
      "        and raise a ValueError if they do. Setting this parameter to\n",
      "        False may silently produce nonsensical results if the input arrays\n",
      "        do contain nans. Default is True.\n",
      "    bounds : 2-tuple of array_like, optional\n",
      "        Lower and upper bounds on parameters. Defaults to no bounds.\n",
      "        Each element of the tuple must be either an array with the length equal\n",
      "        to the number of parameters, or a scalar (in which case the bound is\n",
      "        taken to be the same for all parameters.) Use ``np.inf`` with an\n",
      "        appropriate sign to disable bounds on all or some parameters.\n",
      "    \n",
      "        .. versionadded:: 0.17\n",
      "    method : {'lm', 'trf', 'dogbox'}, optional\n",
      "        Method to use for optimization.  See `least_squares` for more details.\n",
      "        Default is 'lm' for unconstrained problems and 'trf' if `bounds` are\n",
      "        provided. The method 'lm' won't work when the number of observations\n",
      "        is less than the number of variables, use 'trf' or 'dogbox' in this\n",
      "        case.\n",
      "    \n",
      "        .. versionadded:: 0.17\n",
      "    jac : callable, string or None, optional\n",
      "        Function with signature ``jac(x, ...)`` which computes the Jacobian\n",
      "        matrix of the model function with respect to parameters as a dense\n",
      "        array_like structure. It will be scaled according to provided `sigma`.\n",
      "        If None (default), the Jacobian will be estimated numerically.\n",
      "        String keywords for 'trf' and 'dogbox' methods can be used to select\n",
      "        a finite difference scheme, see `least_squares`.\n",
      "    \n",
      "        .. versionadded:: 0.18\n",
      "    kwargs\n",
      "        Keyword arguments passed to `leastsq` for ``method='lm'`` or\n",
      "        `least_squares` otherwise.\n",
      "    \n",
      "    Returns\n",
      "    -------\n",
      "    popt : array\n",
      "        Optimal values for the parameters so that the sum of the squared\n",
      "        residuals of ``f(xdata, *popt) - ydata`` is minimized\n",
      "    pcov : 2d array\n",
      "        The estimated covariance of popt. The diagonals provide the variance\n",
      "        of the parameter estimate. To compute one standard deviation errors\n",
      "        on the parameters use ``perr = np.sqrt(np.diag(pcov))``.\n",
      "    \n",
      "        How the `sigma` parameter affects the estimated covariance\n",
      "        depends on `absolute_sigma` argument, as described above.\n",
      "    \n",
      "        If the Jacobian matrix at the solution doesn't have a full rank, then\n",
      "        'lm' method returns a matrix filled with ``np.inf``, on the other hand\n",
      "        'trf'  and 'dogbox' methods use Moore-Penrose pseudoinverse to compute\n",
      "        the covariance matrix.\n",
      "    \n",
      "    Raises\n",
      "    ------\n",
      "    ValueError\n",
      "        if either `ydata` or `xdata` contain NaNs, or if incompatible options\n",
      "        are used.\n",
      "    \n",
      "    RuntimeError\n",
      "        if the least-squares minimization fails.\n",
      "    \n",
      "    OptimizeWarning\n",
      "        if covariance of the parameters can not be estimated.\n",
      "    \n",
      "    See Also\n",
      "    --------\n",
      "    least_squares : Minimize the sum of squares of nonlinear functions.\n",
      "    scipy.stats.linregress : Calculate a linear least squares regression for\n",
      "                             two sets of measurements.\n",
      "    \n",
      "    Notes\n",
      "    -----\n",
      "    With ``method='lm'``, the algorithm uses the Levenberg-Marquardt algorithm\n",
      "    through `leastsq`. Note that this algorithm can only deal with\n",
      "    unconstrained problems.\n",
      "    \n",
      "    Box constraints can be handled by methods 'trf' and 'dogbox'. Refer to\n",
      "    the docstring of `least_squares` for more information.\n",
      "    \n",
      "    Examples\n",
      "    --------\n",
      "    >>> import matplotlib.pyplot as plt\n",
      "    >>> from scipy.optimize import curve_fit\n",
      "    \n",
      "    >>> def func(x, a, b, c):\n",
      "    ...     return a * np.exp(-b * x) + c\n",
      "    \n",
      "    Define the data to be fit with some noise:\n",
      "    \n",
      "    >>> xdata = np.linspace(0, 4, 50)\n",
      "    >>> y = func(xdata, 2.5, 1.3, 0.5)\n",
      "    >>> np.random.seed(1729)\n",
      "    >>> y_noise = 0.2 * np.random.normal(size=xdata.size)\n",
      "    >>> ydata = y + y_noise\n",
      "    >>> plt.plot(xdata, ydata, 'b-', label='data')\n",
      "    \n",
      "    Fit for the parameters a, b, c of the function `func`:\n",
      "    \n",
      "    >>> popt, pcov = curve_fit(func, xdata, ydata)\n",
      "    >>> popt\n",
      "    array([ 2.55423706,  1.35190947,  0.47450618])\n",
      "    >>> plt.plot(xdata, func(xdata, *popt), 'r-',\n",
      "    ...          label='fit: a=%5.3f, b=%5.3f, c=%5.3f' % tuple(popt))\n",
      "    \n",
      "    Constrain the optimization to the region of ``0 <= a <= 3``,\n",
      "    ``0 <= b <= 1`` and ``0 <= c <= 0.5``:\n",
      "    \n",
      "    >>> popt, pcov = curve_fit(func, xdata, ydata, bounds=(0, [3., 1., 0.5]))\n",
      "    >>> popt\n",
      "    array([ 2.43708906,  1.        ,  0.35015434])\n",
      "    >>> plt.plot(xdata, func(xdata, *popt), 'g--',\n",
      "    ...          label='fit: a=%5.3f, b=%5.3f, c=%5.3f' % tuple(popt))\n",
      "    \n",
      "    >>> plt.xlabel('x')\n",
      "    >>> plt.ylabel('y')\n",
      "    >>> plt.legend()\n",
      "    >>> plt.show()\n",
      "\n"
     ]
    }
   ],
   "source": [
    "help(curve_fit)"
   ]
  },
  {
   "cell_type": "code",
   "execution_count": 115,
   "metadata": {
    "collapsed": true
   },
   "outputs": [],
   "source": [
    "xdata = np.concatenate([df['Lockin1f'], df['Lockin1f']])\n",
    "ydata = np.concatenate([df['X3'], df['Y3']])\n",
    "popt, pcov = curve_fit(X3_Y3_fit, xdata, ydata, p0 = [2, 2])"
   ]
  },
  {
   "cell_type": "code",
   "execution_count": 111,
   "metadata": {},
   "outputs": [
    {
     "data": {
      "text/plain": [
       "(array([0.00056958, 0.07898489]), array([[5.34953940e-12, 7.41830913e-10],\n",
       "        [7.41830913e-10, 8.55559012e-07]]))"
      ]
     },
     "execution_count": 111,
     "metadata": {},
     "output_type": "execute_result"
    }
   ],
   "source": [
    "popt,pcov #test\n"
   ]
  },
  {
   "cell_type": "code",
   "execution_count": 27,
   "metadata": {
    "collapsed": true
   },
   "outputs": [],
   "source": [
    "# mask = df['Lockin1f'] > 0.1\n",
    "# xdata = np.concatenate([df['Lockin1f'][mask], df['Lockin1f'][mask]])\n",
    "# ydata = np.concatenate([df['X3'][mask], df['Y3'][mask]])\n",
    "# popt, pcov = curve_fit(X3_Y3_fit, xdata, ydata, p0 = [2, 100])"
   ]
  },
  {
   "cell_type": "code",
   "execution_count": 17,
   "metadata": {},
   "outputs": [
    {
     "data": {
      "text/plain": [
       "(array([2.08273686e-04, 2.70383964e-01]),\n",
       " array([[8.48305763e-14, 1.10128293e-10],\n",
       "        [1.10128293e-10, 1.14463283e-06]]))"
      ]
     },
     "execution_count": 17,
     "metadata": {},
     "output_type": "execute_result"
    }
   ],
   "source": [
    "#P-11-1mm with correction factor\n",
    "popt,pcov"
   ]
  },
  {
   "cell_type": "code",
   "execution_count": 26,
   "metadata": {},
   "outputs": [
    {
     "data": {
      "text/plain": [
       "(array([0.00027372, 0.27038395]), array([[1.46524847e-13, 1.44736230e-10],\n",
       "        [1.44736230e-10, 1.14462642e-06]]))"
      ]
     },
     "execution_count": 26,
     "metadata": {},
     "output_type": "execute_result"
    }
   ],
   "source": [
    "#P-11-1mm no correction factor\n",
    "popt,pcov"
   ]
  },
  {
   "cell_type": "code",
   "execution_count": 27,
   "metadata": {},
   "outputs": [
    {
     "data": {
      "text/plain": [
       "(array([4.22245736e-04, 4.57182423e-01]),\n",
       " array([[2.84519645e-11, 3.08063550e-08],\n",
       "        [3.08063550e-08, 3.02033180e-04]]))"
      ]
     },
     "execution_count": 27,
     "metadata": {},
     "output_type": "execute_result"
    }
   ],
   "source": [
    "#P-11-2mm with correction factor\n",
    "popt,pcov"
   ]
  },
  {
   "cell_type": "code",
   "execution_count": 16,
   "metadata": {},
   "outputs": [
    {
     "data": {
      "text/plain": [
       "(array([0.00049756, 0.45718127]), array([[3.95062349e-11, 3.63002086e-08],\n",
       "        [3.63002086e-08, 3.02020978e-04]]))"
      ]
     },
     "execution_count": 16,
     "metadata": {},
     "output_type": "execute_result"
    }
   ],
   "source": [
    "#P-11-2mm no correction factor\n",
    "popt,pcov"
   ]
  },
  {
   "cell_type": "code",
   "execution_count": 116,
   "metadata": {
    "scrolled": false
   },
   "outputs": [
    {
     "data": {
      "image/png": "[encoded data removed]",
      "text/plain": [
       "<Figure size 1152x432 with 2 Axes>"
      ]
     },
     "metadata": {},
     "output_type": "display_data"
    }
   ],
   "source": [
    "fig, axs = plt.subplots(1, 2, figsize = (16,6))\n",
    "fz = 24\n",
    "\n",
    "f1 = np.arange(0.01, 100.01, 0.01)\n",
    "\n",
    "axs[0].scatter(df.Lockin1f, df.X3, label = 'X3')\n",
    "#axs[0].scatter(df.Lockin1f, df.X3_ref, label = 'X3_ref')\n",
    "#axs[0].scatter(df2.Lockin1f, df2.X3, label = 'X3 test2 (measured next day)')#\n",
    "#axs[0].scatter(df2.Lockin1f, df2.X3_ref, label = 'X3_ref test2')\n",
    "axs[0].plot(f1, X3_calc(f1,*popt), label = 'X3_fit')\n",
    "axs[0].set_xlabel('f(Hz)', fontsize = fz)\n",
    "axs[0].set_ylabel('V(V)', fontsize = fz)\n",
    "axs[0].set_xscale('log')\n",
    "#axs[0].set_xlim(0.01,1000)\n",
    "axs[0].legend(loc = 'upper left', fontsize = 20)\n",
    "axs[0].tick_params(labelsize = 20)\n",
    "axs[0].set_ylim(df.X3.min() - 10e-6, df.X3.max() + 10e-6)\n",
    "\n",
    "axs[1].scatter(df.Lockin1f, df.Y3, label = 'Y3')\n",
    "#axs[1].scatter(df.Lockin1f, df.Y3_ref, label = 'Y3_ref')\n",
    "#axs[1].scatter(df2.Lockin1f, df2.Y3, label = 'X3 test2')\n",
    "#axs[1].scatter(df2.Lockin1f, df2.Y3_ref, label = 'X3_ref test2')\n",
    "axs[1].plot(f1, Y3_calc(f1, *popt), label = 'Y3_fit')\n",
    "axs[1].set_xlabel('f(Hz)', fontsize = fz)\n",
    "axs[1].set_ylabel('V(V)', fontsize = fz)\n",
    "axs[1].set_xscale('log')\n",
    "#axs[1].set_xlim(0.01,1000)\n",
    "axs[1].tick_params(labelsize = 20)\n",
    "axs[1].legend(loc = 'upper left', fontsize = 20)\n",
    "axs[1].set_ylim(df.Y3.min() - 10e-6, df.Y3.max() + 20e-6)\n",
    "#axs[1].text(0.6,0.8, f\"fitted k = {round(popt[0],2)} W/mK\\nfitted cp = {round(popt[1],2)} J/kgK\", \n",
    "#            fontsize = 14, transform=axs[1].transAxes)\n",
    "\n",
    "#plt.subplots_adjust(hspace = 0.2,wspace = 0.2)\n",
    "plt.tight_layout()\n",
    "#fig.savefig(fname[:-4] + '_fit.jpg', dpi = 300)"
   ]
  },
  {
   "cell_type": "code",
   "execution_count": 117,
   "metadata": {},
   "outputs": [
    {
     "data": {
      "text/plain": [
       "0.51"
      ]
     },
     "execution_count": 117,
     "metadata": {},
     "output_type": "execute_result"
    }
   ],
   "source": [
    "f1[np.argmax(Y3_calc(f1, *popt))]"
   ]
  },
  {
   "cell_type": "markdown",
   "metadata": {},
   "source": [
    "## help(plt.legend)"
   ]
  },
  {
   "cell_type": "code",
   "execution_count": 75,
   "metadata": {},
   "outputs": [
    {
     "name": "stdout",
     "output_type": "stream",
     "text": [
      "Help on function amax in module numpy:\n",
      "\n",
      "amax(a, axis=None, out=None, keepdims=<no value>, initial=<no value>, where=<no value>)\n",
      "    Return the maximum of an array or maximum along an axis.\n",
      "    \n",
      "    Parameters\n",
      "    ----------\n",
      "    a : array_like\n",
      "        Input data.\n",
      "    axis : None or int or tuple of ints, optional\n",
      "        Axis or axes along which to operate.  By default, flattened input is\n",
      "        used.\n",
      "    \n",
      "        .. versionadded:: 1.7.0\n",
      "    \n",
      "        If this is a tuple of ints, the maximum is selected over multiple axes,\n",
      "        instead of a single axis or all the axes as before.\n",
      "    out : ndarray, optional\n",
      "        Alternative output array in which to place the result.  Must\n",
      "        be of the same shape and buffer length as the expected output.\n",
      "        See `ufuncs-output-type` for more details.\n",
      "    \n",
      "    keepdims : bool, optional\n",
      "        If this is set to True, the axes which are reduced are left\n",
      "        in the result as dimensions with size one. With this option,\n",
      "        the result will broadcast correctly against the input array.\n",
      "    \n",
      "        If the default value is passed, then `keepdims` will not be\n",
      "        passed through to the `amax` method of sub-classes of\n",
      "        `ndarray`, however any non-default value will be.  If the\n",
      "        sub-class' method does not implement `keepdims` any\n",
      "        exceptions will be raised.\n",
      "    \n",
      "    initial : scalar, optional\n",
      "        The minimum value of an output element. Must be present to allow\n",
      "        computation on empty slice. See `~numpy.ufunc.reduce` for details.\n",
      "    \n",
      "        .. versionadded:: 1.15.0\n",
      "    \n",
      "    where : array_like of bool, optional\n",
      "        Elements to compare for the maximum. See `~numpy.ufunc.reduce`\n",
      "        for details.\n",
      "    \n",
      "        .. versionadded:: 1.17.0\n",
      "    \n",
      "    Returns\n",
      "    -------\n",
      "    amax : ndarray or scalar\n",
      "        Maximum of `a`. If `axis` is None, the result is a scalar value.\n",
      "        If `axis` is given, the result is an array of dimension\n",
      "        ``a.ndim - 1``.\n",
      "    \n",
      "    See Also\n",
      "    --------\n",
      "    amin :\n",
      "        The minimum value of an array along a given axis, propagating any NaNs.\n",
      "    nanmax :\n",
      "        The maximum value of an array along a given axis, ignoring any NaNs.\n",
      "    maximum :\n",
      "        Element-wise maximum of two arrays, propagating any NaNs.\n",
      "    fmax :\n",
      "        Element-wise maximum of two arrays, ignoring any NaNs.\n",
      "    argmax :\n",
      "        Return the indices of the maximum values.\n",
      "    \n",
      "    nanmin, minimum, fmin\n",
      "    \n",
      "    Notes\n",
      "    -----\n",
      "    NaN values are propagated, that is if at least one item is NaN, the\n",
      "    corresponding max value will be NaN as well. To ignore NaN values\n",
      "    (MATLAB behavior), please use nanmax.\n",
      "    \n",
      "    Don't use `amax` for element-wise comparison of 2 arrays; when\n",
      "    ``a.shape[0]`` is 2, ``maximum(a[0], a[1])`` is faster than\n",
      "    ``amax(a, axis=0)``.\n",
      "    \n",
      "    Examples\n",
      "    --------\n",
      "    >>> a = np.arange(4).reshape((2,2))\n",
      "    >>> a\n",
      "    array([[0, 1],\n",
      "           [2, 3]])\n",
      "    >>> np.amax(a)           # Maximum of the flattened array\n",
      "    3\n",
      "    >>> np.amax(a, axis=0)   # Maxima along the first axis\n",
      "    array([2, 3])\n",
      "    >>> np.amax(a, axis=1)   # Maxima along the second axis\n",
      "    array([1, 3])\n",
      "    >>> np.amax(a, where=[False, True], initial=-1, axis=0)\n",
      "    array([-1,  3])\n",
      "    >>> b = np.arange(5, dtype=float)\n",
      "    >>> b[2] = np.NaN\n",
      "    >>> np.amax(b)\n",
      "    nan\n",
      "    >>> np.amax(b, where=~np.isnan(b), initial=-1)\n",
      "    4.0\n",
      "    >>> np.nanmax(b)\n",
      "    4.0\n",
      "    \n",
      "    You can use an initial value to compute the maximum of an empty slice, or\n",
      "    to initialize it to a different value:\n",
      "    \n",
      "    >>> np.max([[-50], [10]], axis=-1, initial=0)\n",
      "    array([ 0, 10])\n",
      "    \n",
      "    Notice that the initial value is used as one of the elements for which the\n",
      "    maximum is determined, unlike for the default argument Python's max\n",
      "    function, which is only used for empty iterables.\n",
      "    \n",
      "    >>> np.max([5], initial=6)\n",
      "    6\n",
      "    >>> max([5], default=6)\n",
      "    5\n",
      "\n"
     ]
    }
   ],
   "source": [
    "help(np.amax)"
   ]
  },
  {
   "cell_type": "code",
   "execution_count": null,
   "metadata": {
    "collapsed": true
   },
   "outputs": [],
   "source": []
  }
 ],
 "metadata": {
  "kernelspec": {
   "display_name": "Python 3",
   "language": "python",
   "name": "python3"
  },
  "language_info": {
   "codemirror_mode": {
    "name": "ipython",
    "version": 3
   },
   "file_extension": ".py",
   "mimetype": "text/x-python",
   "name": "python",
   "nbconvert_exporter": "python",
   "pygments_lexer": "ipython3",
   "version": "3.6.3"
  }
 },
 "nbformat": 4,
 "nbformat_minor": 2
}
